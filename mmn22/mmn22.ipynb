{
 "cells": [
  {
   "cell_type": "markdown",
   "id": "e35f0d20",
   "metadata": {},
   "source": [
    "# MMN 22 - course Information / Data Mining . \n",
    "This work was done as part of the \"Information / Data Mining\" course at the Open University.\n",
    "\n",
    "The database (subjects from Mexico, Peru and Colombia can be found at: https://www.kaggle.com/mpwolke/obesity-levels-life-style/data )\n",
    "\n",
    "Explanations about the data can be found in the article by Fabio Mendoza Palechor at: https://www.sciencedirect.com/science/article/pii/S2352340919306985?via%3Dihub )\n",
    " \n",
    "The project's target:\n",
    "Predict the degree of obesity of a subject from the set of given characteristics.\n",
    "\n",
    "## This project is a continuation of Project 21"
   ]
  },
  {
   "cell_type": "markdown",
   "id": "f309473c",
   "metadata": {},
   "source": [
    "# q 1.a"
   ]
  },
  {
   "cell_type": "markdown",
   "id": "a0272a6f",
   "metadata": {},
   "source": [
    "comlpete answer "
   ]
  },
  {
   "cell_type": "markdown",
   "id": "3e06c9b0",
   "metadata": {},
   "source": [
    "# not in use \n",
    "\n",
    "\n",
    "def getUnion(itemSet, length):\n",
    "    return set([i.union(j) for i in itemSet for j in itemSet if len(i.union(j)) == length])\n",
    "\n",
    "def pruning(candidateSet, prevFreqSet, length):\n",
    "    tempCandidateSet = candidateSet.copy()\n",
    "    for item in candidateSet:\n",
    "        subsets = combinations(item, length)\n",
    "        for subset in subsets:\n",
    "            # if the subset is not in previous K-frequent get, then remove the set\n",
    "            if(frozenset(subset) not in prevFreqSet):\n",
    "                tempCandidateSet.remove(item)\n",
    "                break\n",
    "    return tempCandidateSet\n",
    "\n",
    "\n",
    "def getAboveMinSup(itemSet, itemSetList, minSup, globalItemSetWithSup):\n",
    "    freqItemSet = set()\n",
    "    localItemSetWithSup = defaultdict(int)\n",
    "\n",
    "    for item in itemSet:\n",
    "        for itemSet in itemSetList:\n",
    "            if item.issubset(itemSet):\n",
    "                globalItemSetWithSup[item] += 1\n",
    "                localItemSetWithSup[item] += 1\n",
    "\n",
    "    for item, supCount in localItemSetWithSup.items():\n",
    "        support = float(supCount / len(itemSetList))\n",
    "        if(support >= minSup):\n",
    "            freqItemSet.add(item)\n",
    "\n",
    "    return freqItemSet\n",
    "def apriori(itemSetList, minSup, minConf):\n",
    "    C1ItemSet = getItemSetFromList(itemSetList)\n",
    "    # Final result, global frequent itemset\n",
    "    globalFreqItemSet = dict()\n",
    "    # Storing global itemset with support count\n",
    "    globalItemSetWithSup = defaultdict(int)\n",
    "\n",
    "    L1ItemSet = getAboveMinSup(C1ItemSet, itemSetList, minSup, globalItemSetWithSup)\n",
    "    currentLSet = L1ItemSet\n",
    "    k = 2\n",
    "\n",
    "    # Calculating frequent item set\n",
    "    while(currentLSet):\n",
    "        # Storing frequent itemset\n",
    "        globalFreqItemSet[k-1] = currentLSet\n",
    "        # Self-joining Lk\n",
    "        candidateSet = getUnion(currentLSet, k)\n",
    "        # Perform subset testing and remove pruned supersets\n",
    "        candidateSet = pruning(candidateSet, currentLSet, k-1)\n",
    "        # Scanning itemSet for counting support\n",
    "        currentLSet = getAboveMinSup(candidateSet, itemSetList, minSup, globalItemSetWithSup)\n",
    "        k += 1\n",
    "\n",
    "    rules = associationRule(globalFreqItemSet, globalItemSetWithSup, minConf)\n",
    "    rules.sort(key=lambda x: x[2])\n",
    "\n",
    "    return globalFreqItemSet, rules"
   ]
  },
  {
   "cell_type": "code",
   "execution_count": 3,
   "id": "4b4e74fe",
   "metadata": {},
   "outputs": [
    {
     "data": {
      "text/plain": [
       "'2.2.3'"
      ]
     },
     "execution_count": 3,
     "metadata": {},
     "output_type": "execute_result"
    }
   ],
   "source": [
    "from pycaret.utils import version\n",
    "version()"
   ]
  },
  {
   "cell_type": "code",
   "execution_count": 11,
   "id": "d189e6ce",
   "metadata": {},
   "outputs": [
    {
     "data": {
      "text/html": [
       "<div>\n",
       "<style scoped>\n",
       "    .dataframe tbody tr th:only-of-type {\n",
       "        vertical-align: middle;\n",
       "    }\n",
       "\n",
       "    .dataframe tbody tr th {\n",
       "        vertical-align: top;\n",
       "    }\n",
       "\n",
       "    .dataframe thead th {\n",
       "        text-align: right;\n",
       "    }\n",
       "</style>\n",
       "<table border=\"1\" class=\"dataframe\">\n",
       "  <thead>\n",
       "    <tr style=\"text-align: right;\">\n",
       "      <th></th>\n",
       "      <th>InvoiceNo</th>\n",
       "      <th>StockCode</th>\n",
       "      <th>Description</th>\n",
       "      <th>Quantity</th>\n",
       "      <th>InvoiceDate</th>\n",
       "      <th>UnitPrice</th>\n",
       "      <th>CustomerID</th>\n",
       "      <th>Country</th>\n",
       "    </tr>\n",
       "  </thead>\n",
       "  <tbody>\n",
       "    <tr>\n",
       "      <th>0</th>\n",
       "      <td>536370</td>\n",
       "      <td>22728</td>\n",
       "      <td>ALARM CLOCK BAKELIKE PINK</td>\n",
       "      <td>24</td>\n",
       "      <td>12/1/2010 8:45</td>\n",
       "      <td>3.75</td>\n",
       "      <td>12583.0</td>\n",
       "      <td>France</td>\n",
       "    </tr>\n",
       "    <tr>\n",
       "      <th>1</th>\n",
       "      <td>536370</td>\n",
       "      <td>22727</td>\n",
       "      <td>ALARM CLOCK BAKELIKE RED</td>\n",
       "      <td>24</td>\n",
       "      <td>12/1/2010 8:45</td>\n",
       "      <td>3.75</td>\n",
       "      <td>12583.0</td>\n",
       "      <td>France</td>\n",
       "    </tr>\n",
       "    <tr>\n",
       "      <th>2</th>\n",
       "      <td>536370</td>\n",
       "      <td>22726</td>\n",
       "      <td>ALARM CLOCK BAKELIKE GREEN</td>\n",
       "      <td>12</td>\n",
       "      <td>12/1/2010 8:45</td>\n",
       "      <td>3.75</td>\n",
       "      <td>12583.0</td>\n",
       "      <td>France</td>\n",
       "    </tr>\n",
       "    <tr>\n",
       "      <th>3</th>\n",
       "      <td>536370</td>\n",
       "      <td>21724</td>\n",
       "      <td>PANDA AND BUNNIES STICKER SHEET</td>\n",
       "      <td>12</td>\n",
       "      <td>12/1/2010 8:45</td>\n",
       "      <td>0.85</td>\n",
       "      <td>12583.0</td>\n",
       "      <td>France</td>\n",
       "    </tr>\n",
       "    <tr>\n",
       "      <th>4</th>\n",
       "      <td>536370</td>\n",
       "      <td>21883</td>\n",
       "      <td>STARS GIFT TAPE</td>\n",
       "      <td>24</td>\n",
       "      <td>12/1/2010 8:45</td>\n",
       "      <td>0.65</td>\n",
       "      <td>12583.0</td>\n",
       "      <td>France</td>\n",
       "    </tr>\n",
       "  </tbody>\n",
       "</table>\n",
       "</div>"
      ],
      "text/plain": [
       "  InvoiceNo StockCode                      Description  Quantity  \\\n",
       "0    536370     22728        ALARM CLOCK BAKELIKE PINK        24   \n",
       "1    536370     22727        ALARM CLOCK BAKELIKE RED         24   \n",
       "2    536370     22726       ALARM CLOCK BAKELIKE GREEN        12   \n",
       "3    536370     21724  PANDA AND BUNNIES STICKER SHEET        12   \n",
       "4    536370     21883                 STARS GIFT TAPE         24   \n",
       "\n",
       "      InvoiceDate  UnitPrice  CustomerID Country  \n",
       "0  12/1/2010 8:45       3.75     12583.0  France  \n",
       "1  12/1/2010 8:45       3.75     12583.0  France  \n",
       "2  12/1/2010 8:45       3.75     12583.0  France  \n",
       "3  12/1/2010 8:45       0.85     12583.0  France  \n",
       "4  12/1/2010 8:45       0.65     12583.0  France  "
      ]
     },
     "metadata": {},
     "output_type": "display_data"
    },
    {
     "data": {
      "text/plain": [
       "pandas.core.frame.DataFrame"
      ]
     },
     "execution_count": 11,
     "metadata": {},
     "output_type": "execute_result"
    }
   ],
   "source": [
    "from pycaret.datasets import get_data\n",
    "from pycaret.arules import *\n",
    "\n",
    "data = get_data('france')\n",
    "type(data)"
   ]
  },
  {
   "cell_type": "code",
   "execution_count": 5,
   "id": "814185a7",
   "metadata": {},
   "outputs": [
    {
     "data": {
      "text/html": [
       "<div>\n",
       "<style scoped>\n",
       "    .dataframe tbody tr th:only-of-type {\n",
       "        vertical-align: middle;\n",
       "    }\n",
       "\n",
       "    .dataframe tbody tr th {\n",
       "        vertical-align: top;\n",
       "    }\n",
       "\n",
       "    .dataframe thead th {\n",
       "        text-align: right;\n",
       "    }\n",
       "</style>\n",
       "<table border=\"1\" class=\"dataframe\">\n",
       "  <thead>\n",
       "    <tr style=\"text-align: right;\">\n",
       "      <th></th>\n",
       "      <th>InvoiceNo</th>\n",
       "      <th>StockCode</th>\n",
       "      <th>Description</th>\n",
       "      <th>Quantity</th>\n",
       "      <th>InvoiceDate</th>\n",
       "      <th>UnitPrice</th>\n",
       "      <th>CustomerID</th>\n",
       "      <th>Country</th>\n",
       "    </tr>\n",
       "  </thead>\n",
       "  <tbody>\n",
       "    <tr>\n",
       "      <th>0</th>\n",
       "      <td>536370</td>\n",
       "      <td>22728</td>\n",
       "      <td>ALARM CLOCK BAKELIKE PINK</td>\n",
       "      <td>24</td>\n",
       "      <td>12/1/2010 8:45</td>\n",
       "      <td>3.75</td>\n",
       "      <td>12583.0</td>\n",
       "      <td>France</td>\n",
       "    </tr>\n",
       "    <tr>\n",
       "      <th>1</th>\n",
       "      <td>536370</td>\n",
       "      <td>22727</td>\n",
       "      <td>ALARM CLOCK BAKELIKE RED</td>\n",
       "      <td>24</td>\n",
       "      <td>12/1/2010 8:45</td>\n",
       "      <td>3.75</td>\n",
       "      <td>12583.0</td>\n",
       "      <td>France</td>\n",
       "    </tr>\n",
       "    <tr>\n",
       "      <th>2</th>\n",
       "      <td>536370</td>\n",
       "      <td>22726</td>\n",
       "      <td>ALARM CLOCK BAKELIKE GREEN</td>\n",
       "      <td>12</td>\n",
       "      <td>12/1/2010 8:45</td>\n",
       "      <td>3.75</td>\n",
       "      <td>12583.0</td>\n",
       "      <td>France</td>\n",
       "    </tr>\n",
       "    <tr>\n",
       "      <th>3</th>\n",
       "      <td>536370</td>\n",
       "      <td>21724</td>\n",
       "      <td>PANDA AND BUNNIES STICKER SHEET</td>\n",
       "      <td>12</td>\n",
       "      <td>12/1/2010 8:45</td>\n",
       "      <td>0.85</td>\n",
       "      <td>12583.0</td>\n",
       "      <td>France</td>\n",
       "    </tr>\n",
       "    <tr>\n",
       "      <th>4</th>\n",
       "      <td>536370</td>\n",
       "      <td>21883</td>\n",
       "      <td>STARS GIFT TAPE</td>\n",
       "      <td>24</td>\n",
       "      <td>12/1/2010 8:45</td>\n",
       "      <td>0.65</td>\n",
       "      <td>12583.0</td>\n",
       "      <td>France</td>\n",
       "    </tr>\n",
       "  </tbody>\n",
       "</table>\n",
       "</div>"
      ],
      "text/plain": [
       "  InvoiceNo StockCode                      Description  Quantity  \\\n",
       "0    536370     22728        ALARM CLOCK BAKELIKE PINK        24   \n",
       "1    536370     22727        ALARM CLOCK BAKELIKE RED         24   \n",
       "2    536370     22726       ALARM CLOCK BAKELIKE GREEN        12   \n",
       "3    536370     21724  PANDA AND BUNNIES STICKER SHEET        12   \n",
       "4    536370     21883                 STARS GIFT TAPE         24   \n",
       "\n",
       "      InvoiceDate  UnitPrice  CustomerID Country  \n",
       "0  12/1/2010 8:45       3.75     12583.0  France  \n",
       "1  12/1/2010 8:45       3.75     12583.0  France  \n",
       "2  12/1/2010 8:45       3.75     12583.0  France  \n",
       "3  12/1/2010 8:45       0.85     12583.0  France  \n",
       "4  12/1/2010 8:45       0.65     12583.0  France  "
      ]
     },
     "metadata": {},
     "output_type": "display_data"
    },
    {
     "data": {
      "text/html": [
       "<style type=\"text/css\">\n",
       "</style>\n",
       "<table id=\"T_67817\">\n",
       "  <thead>\n",
       "    <tr>\n",
       "      <th id=\"T_67817_level0_col0\" class=\"col_heading level0 col0\" >Description</th>\n",
       "      <th id=\"T_67817_level0_col1\" class=\"col_heading level0 col1\" >Value</th>\n",
       "    </tr>\n",
       "  </thead>\n",
       "  <tbody>\n",
       "    <tr>\n",
       "      <td id=\"T_67817_row0_col0\" class=\"data row0 col0\" >session_id</td>\n",
       "      <td id=\"T_67817_row0_col1\" class=\"data row0 col1\" >1685</td>\n",
       "    </tr>\n",
       "    <tr>\n",
       "      <td id=\"T_67817_row1_col0\" class=\"data row1 col0\" ># Transactions</td>\n",
       "      <td id=\"T_67817_row1_col1\" class=\"data row1 col1\" >461</td>\n",
       "    </tr>\n",
       "    <tr>\n",
       "      <td id=\"T_67817_row2_col0\" class=\"data row2 col0\" ># Items</td>\n",
       "      <td id=\"T_67817_row2_col1\" class=\"data row2 col1\" >1565</td>\n",
       "    </tr>\n",
       "    <tr>\n",
       "      <td id=\"T_67817_row3_col0\" class=\"data row3 col0\" >Ignore Items</td>\n",
       "      <td id=\"T_67817_row3_col1\" class=\"data row3 col1\" >None</td>\n",
       "    </tr>\n",
       "  </tbody>\n",
       "</table>\n"
      ],
      "text/plain": [
       "<pandas.io.formats.style.Styler at 0x242bf443880>"
      ]
     },
     "metadata": {},
     "output_type": "display_data"
    }
   ],
   "source": [
    "s = setup(data, 'InvoiceNo', item_id='Description')"
   ]
  },
  {
   "cell_type": "code",
   "execution_count": 6,
   "id": "05b1273e",
   "metadata": {},
   "outputs": [
    {
     "name": "stderr",
     "output_type": "stream",
     "text": [
      "C:\\Users\\dalei\\anaconda3\\envs\\tensorflow\\lib\\site-packages\\mlxtend\\frequent_patterns\\fpcommon.py:111: DeprecationWarning: DataFrames with non-bool types result in worse computationalperformance and their support might be discontinued in the future.Please use a DataFrame with bool type\n",
      "  warnings.warn(\n"
     ]
    }
   ],
   "source": [
    "model1 = create_model()"
   ]
  },
  {
   "cell_type": "code",
   "execution_count": 7,
   "id": "b2eb999c",
   "metadata": {},
   "outputs": [
    {
     "data": {
      "text/html": [
       "<div>\n",
       "<style scoped>\n",
       "    .dataframe tbody tr th:only-of-type {\n",
       "        vertical-align: middle;\n",
       "    }\n",
       "\n",
       "    .dataframe tbody tr th {\n",
       "        vertical-align: top;\n",
       "    }\n",
       "\n",
       "    .dataframe thead th {\n",
       "        text-align: right;\n",
       "    }\n",
       "</style>\n",
       "<table border=\"1\" class=\"dataframe\">\n",
       "  <thead>\n",
       "    <tr style=\"text-align: right;\">\n",
       "      <th></th>\n",
       "      <th>antecedents</th>\n",
       "      <th>consequents</th>\n",
       "      <th>antecedent support</th>\n",
       "      <th>consequent support</th>\n",
       "      <th>support</th>\n",
       "      <th>confidence</th>\n",
       "      <th>lift</th>\n",
       "      <th>leverage</th>\n",
       "      <th>conviction</th>\n",
       "    </tr>\n",
       "  </thead>\n",
       "  <tbody>\n",
       "    <tr>\n",
       "      <th>0</th>\n",
       "      <td>(JUMBO BAG WOODLAND ANIMALS)</td>\n",
       "      <td>(POSTAGE)</td>\n",
       "      <td>0.0651</td>\n",
       "      <td>0.6746</td>\n",
       "      <td>0.0651</td>\n",
       "      <td>1.0000</td>\n",
       "      <td>1.4823</td>\n",
       "      <td>0.0212</td>\n",
       "      <td>inf</td>\n",
       "    </tr>\n",
       "    <tr>\n",
       "      <th>1</th>\n",
       "      <td>(SET/20 RED RETROSPOT PAPER NAPKINS , SET/6 RE...</td>\n",
       "      <td>(SET/6 RED SPOTTY PAPER CUPS)</td>\n",
       "      <td>0.0868</td>\n",
       "      <td>0.1171</td>\n",
       "      <td>0.0846</td>\n",
       "      <td>0.9750</td>\n",
       "      <td>8.3236</td>\n",
       "      <td>0.0744</td>\n",
       "      <td>35.3145</td>\n",
       "    </tr>\n",
       "    <tr>\n",
       "      <th>2</th>\n",
       "      <td>(SET/20 RED RETROSPOT PAPER NAPKINS , SET/6 RE...</td>\n",
       "      <td>(SET/6 RED SPOTTY PAPER PLATES)</td>\n",
       "      <td>0.0868</td>\n",
       "      <td>0.1085</td>\n",
       "      <td>0.0846</td>\n",
       "      <td>0.9750</td>\n",
       "      <td>8.9895</td>\n",
       "      <td>0.0752</td>\n",
       "      <td>35.6616</td>\n",
       "    </tr>\n",
       "    <tr>\n",
       "      <th>3</th>\n",
       "      <td>(SET/20 RED RETROSPOT PAPER NAPKINS , POSTAGE,...</td>\n",
       "      <td>(SET/6 RED SPOTTY PAPER CUPS)</td>\n",
       "      <td>0.0716</td>\n",
       "      <td>0.1171</td>\n",
       "      <td>0.0694</td>\n",
       "      <td>0.9697</td>\n",
       "      <td>8.2783</td>\n",
       "      <td>0.0610</td>\n",
       "      <td>29.1345</td>\n",
       "    </tr>\n",
       "    <tr>\n",
       "      <th>4</th>\n",
       "      <td>(SET/20 RED RETROSPOT PAPER NAPKINS , POSTAGE,...</td>\n",
       "      <td>(SET/6 RED SPOTTY PAPER PLATES)</td>\n",
       "      <td>0.0716</td>\n",
       "      <td>0.1085</td>\n",
       "      <td>0.0694</td>\n",
       "      <td>0.9697</td>\n",
       "      <td>8.9406</td>\n",
       "      <td>0.0617</td>\n",
       "      <td>29.4208</td>\n",
       "    </tr>\n",
       "    <tr>\n",
       "      <th>...</th>\n",
       "      <td>...</td>\n",
       "      <td>...</td>\n",
       "      <td>...</td>\n",
       "      <td>...</td>\n",
       "      <td>...</td>\n",
       "      <td>...</td>\n",
       "      <td>...</td>\n",
       "      <td>...</td>\n",
       "      <td>...</td>\n",
       "    </tr>\n",
       "    <tr>\n",
       "      <th>136</th>\n",
       "      <td>(STRAWBERRY LUNCH BOX WITH CUTLERY)</td>\n",
       "      <td>(LUNCH BOX WITH CUTLERY RETROSPOT )</td>\n",
       "      <td>0.1041</td>\n",
       "      <td>0.1236</td>\n",
       "      <td>0.0542</td>\n",
       "      <td>0.5208</td>\n",
       "      <td>4.2124</td>\n",
       "      <td>0.0414</td>\n",
       "      <td>1.8289</td>\n",
       "    </tr>\n",
       "    <tr>\n",
       "      <th>137</th>\n",
       "      <td>(LUNCH BAG APPLE DESIGN)</td>\n",
       "      <td>(LUNCH BAG SPACEBOY DESIGN )</td>\n",
       "      <td>0.1085</td>\n",
       "      <td>0.1041</td>\n",
       "      <td>0.0564</td>\n",
       "      <td>0.5200</td>\n",
       "      <td>4.9942</td>\n",
       "      <td>0.0451</td>\n",
       "      <td>1.8664</td>\n",
       "    </tr>\n",
       "    <tr>\n",
       "      <th>138</th>\n",
       "      <td>(LUNCH BAG APPLE DESIGN)</td>\n",
       "      <td>(LUNCH BAG RED RETROSPOT)</td>\n",
       "      <td>0.1085</td>\n",
       "      <td>0.1323</td>\n",
       "      <td>0.0564</td>\n",
       "      <td>0.5200</td>\n",
       "      <td>3.9298</td>\n",
       "      <td>0.0420</td>\n",
       "      <td>1.8077</td>\n",
       "    </tr>\n",
       "    <tr>\n",
       "      <th>139</th>\n",
       "      <td>(PLASTERS IN TIN CIRCUS PARADE , POSTAGE)</td>\n",
       "      <td>(PLASTERS IN TIN SPACEBOY)</td>\n",
       "      <td>0.1258</td>\n",
       "      <td>0.1193</td>\n",
       "      <td>0.0629</td>\n",
       "      <td>0.5000</td>\n",
       "      <td>4.1909</td>\n",
       "      <td>0.0479</td>\n",
       "      <td>1.7614</td>\n",
       "    </tr>\n",
       "    <tr>\n",
       "      <th>140</th>\n",
       "      <td>(LUNCH BAG RED RETROSPOT, POSTAGE)</td>\n",
       "      <td>(LUNCH BAG APPLE DESIGN)</td>\n",
       "      <td>0.1041</td>\n",
       "      <td>0.1085</td>\n",
       "      <td>0.0521</td>\n",
       "      <td>0.5000</td>\n",
       "      <td>4.6100</td>\n",
       "      <td>0.0408</td>\n",
       "      <td>1.7831</td>\n",
       "    </tr>\n",
       "  </tbody>\n",
       "</table>\n",
       "<p>141 rows × 9 columns</p>\n",
       "</div>"
      ],
      "text/plain": [
       "                                           antecedents  \\\n",
       "0                         (JUMBO BAG WOODLAND ANIMALS)   \n",
       "1    (SET/20 RED RETROSPOT PAPER NAPKINS , SET/6 RE...   \n",
       "2    (SET/20 RED RETROSPOT PAPER NAPKINS , SET/6 RE...   \n",
       "3    (SET/20 RED RETROSPOT PAPER NAPKINS , POSTAGE,...   \n",
       "4    (SET/20 RED RETROSPOT PAPER NAPKINS , POSTAGE,...   \n",
       "..                                                 ...   \n",
       "136                (STRAWBERRY LUNCH BOX WITH CUTLERY)   \n",
       "137                           (LUNCH BAG APPLE DESIGN)   \n",
       "138                           (LUNCH BAG APPLE DESIGN)   \n",
       "139          (PLASTERS IN TIN CIRCUS PARADE , POSTAGE)   \n",
       "140                 (LUNCH BAG RED RETROSPOT, POSTAGE)   \n",
       "\n",
       "                             consequents  antecedent support  \\\n",
       "0                              (POSTAGE)              0.0651   \n",
       "1          (SET/6 RED SPOTTY PAPER CUPS)              0.0868   \n",
       "2        (SET/6 RED SPOTTY PAPER PLATES)              0.0868   \n",
       "3          (SET/6 RED SPOTTY PAPER CUPS)              0.0716   \n",
       "4        (SET/6 RED SPOTTY PAPER PLATES)              0.0716   \n",
       "..                                   ...                 ...   \n",
       "136  (LUNCH BOX WITH CUTLERY RETROSPOT )              0.1041   \n",
       "137         (LUNCH BAG SPACEBOY DESIGN )              0.1085   \n",
       "138            (LUNCH BAG RED RETROSPOT)              0.1085   \n",
       "139           (PLASTERS IN TIN SPACEBOY)              0.1258   \n",
       "140             (LUNCH BAG APPLE DESIGN)              0.1041   \n",
       "\n",
       "     consequent support  support  confidence    lift  leverage  conviction  \n",
       "0                0.6746   0.0651      1.0000  1.4823    0.0212         inf  \n",
       "1                0.1171   0.0846      0.9750  8.3236    0.0744     35.3145  \n",
       "2                0.1085   0.0846      0.9750  8.9895    0.0752     35.6616  \n",
       "3                0.1171   0.0694      0.9697  8.2783    0.0610     29.1345  \n",
       "4                0.1085   0.0694      0.9697  8.9406    0.0617     29.4208  \n",
       "..                  ...      ...         ...     ...       ...         ...  \n",
       "136              0.1236   0.0542      0.5208  4.2124    0.0414      1.8289  \n",
       "137              0.1041   0.0564      0.5200  4.9942    0.0451      1.8664  \n",
       "138              0.1323   0.0564      0.5200  3.9298    0.0420      1.8077  \n",
       "139              0.1193   0.0629      0.5000  4.1909    0.0479      1.7614  \n",
       "140              0.1085   0.0521      0.5000  4.6100    0.0408      1.7831  \n",
       "\n",
       "[141 rows x 9 columns]"
      ]
     },
     "execution_count": 7,
     "metadata": {},
     "output_type": "execute_result"
    }
   ],
   "source": [
    "model1"
   ]
  },
  {
   "cell_type": "code",
   "execution_count": 8,
   "id": "bfd1c50a",
   "metadata": {},
   "outputs": [
    {
     "name": "stderr",
     "output_type": "stream",
     "text": [
      "C:\\Users\\dalei\\anaconda3\\envs\\tensorflow\\lib\\site-packages\\plotly\\graph_objs\\__init__.py:287: DeprecationWarning:\n",
      "\n",
      "distutils Version classes are deprecated. Use packaging.version instead.\n",
      "\n",
      "C:\\Users\\dalei\\anaconda3\\envs\\tensorflow\\lib\\site-packages\\plotly\\graph_objs\\__init__.py:287: DeprecationWarning:\n",
      "\n",
      "distutils Version classes are deprecated. Use packaging.version instead.\n",
      "\n",
      "C:\\Users\\dalei\\anaconda3\\envs\\tensorflow\\lib\\site-packages\\plotly\\graph_objs\\__init__.py:287: DeprecationWarning:\n",
      "\n",
      "distutils Version classes are deprecated. Use packaging.version instead.\n",
      "\n",
      "C:\\Users\\dalei\\anaconda3\\envs\\tensorflow\\lib\\site-packages\\plotly\\graph_objs\\__init__.py:287: DeprecationWarning:\n",
      "\n",
      "distutils Version classes are deprecated. Use packaging.version instead.\n",
      "\n",
      "C:\\Users\\dalei\\anaconda3\\envs\\tensorflow\\lib\\site-packages\\plotly\\graph_objs\\__init__.py:287: DeprecationWarning:\n",
      "\n",
      "distutils Version classes are deprecated. Use packaging.version instead.\n",
      "\n",
      "C:\\Users\\dalei\\anaconda3\\envs\\tensorflow\\lib\\site-packages\\plotly\\graph_objs\\__init__.py:287: DeprecationWarning:\n",
      "\n",
      "distutils Version classes are deprecated. Use packaging.version instead.\n",
      "\n",
      "C:\\Users\\dalei\\anaconda3\\envs\\tensorflow\\lib\\site-packages\\plotly\\graph_objs\\__init__.py:287: DeprecationWarning:\n",
      "\n",
      "distutils Version classes are deprecated. Use packaging.version instead.\n",
      "\n",
      "C:\\Users\\dalei\\anaconda3\\envs\\tensorflow\\lib\\site-packages\\plotly\\graph_objs\\__init__.py:287: DeprecationWarning:\n",
      "\n",
      "distutils Version classes are deprecated. Use packaging.version instead.\n",
      "\n",
      "C:\\Users\\dalei\\anaconda3\\envs\\tensorflow\\lib\\site-packages\\plotly\\graph_objs\\__init__.py:287: DeprecationWarning:\n",
      "\n",
      "distutils Version classes are deprecated. Use packaging.version instead.\n",
      "\n",
      "C:\\Users\\dalei\\anaconda3\\envs\\tensorflow\\lib\\site-packages\\plotly\\graph_objs\\__init__.py:287: DeprecationWarning:\n",
      "\n",
      "distutils Version classes are deprecated. Use packaging.version instead.\n",
      "\n",
      "C:\\Users\\dalei\\anaconda3\\envs\\tensorflow\\lib\\site-packages\\plotly\\graph_objs\\__init__.py:287: DeprecationWarning:\n",
      "\n",
      "distutils Version classes are deprecated. Use packaging.version instead.\n",
      "\n",
      "C:\\Users\\dalei\\anaconda3\\envs\\tensorflow\\lib\\site-packages\\plotly\\graph_objs\\__init__.py:287: DeprecationWarning:\n",
      "\n",
      "distutils Version classes are deprecated. Use packaging.version instead.\n",
      "\n"
     ]
    },
    {
     "data": {
      "text/html": [
       "        <script type=\"text/javascript\">\n",
       "        window.PlotlyConfig = {MathJaxConfig: 'local'};\n",
       "        if (window.MathJax) {MathJax.Hub.Config({SVG: {font: \"STIX-Web\"}});}\n",
       "        if (typeof require !== 'undefined') {\n",
       "        require.undef(\"plotly\");\n",
       "        requirejs.config({\n",
       "            paths: {\n",
       "                'plotly': ['https://cdn.plot.ly/plotly-2.9.0.min']\n",
       "            }\n",
       "        });\n",
       "        require(['plotly'], function(Plotly) {\n",
       "            window._Plotly = Plotly;\n",
       "        });\n",
       "        }\n",
       "        </script>\n",
       "        "
      ]
     },
     "metadata": {},
     "output_type": "display_data"
    },
    {
     "name": "stderr",
     "output_type": "stream",
     "text": [
      "C:\\Users\\dalei\\anaconda3\\envs\\tensorflow\\lib\\site-packages\\plotly\\io\\_renderers.py:396: DeprecationWarning:\n",
      "\n",
      "distutils Version classes are deprecated. Use packaging.version instead.\n",
      "\n",
      "C:\\Users\\dalei\\anaconda3\\envs\\tensorflow\\lib\\site-packages\\plotly\\io\\_renderers.py:396: DeprecationWarning:\n",
      "\n",
      "distutils Version classes are deprecated. Use packaging.version instead.\n",
      "\n"
     ]
    },
    {
     "data": {
      "application/vnd.plotly.v1+json": {
       "config": {
        "plotlyServerURL": "https://plot.ly"
       },
       "data": [
        {
         "customdata": [
          [
           "JUMBO BAG WOODLAND ANIMALS",
           "POSTAGE"
          ],
          [
           "SET/20 RED RETROSPOT PAPER NAPKINS ",
           "SET/6 RED SPOTTY PAPER CUPS"
          ],
          [
           "SET/20 RED RETROSPOT PAPER NAPKINS ",
           "SET/6 RED SPOTTY PAPER PLATES"
          ],
          [
           "SET/20 RED RETROSPOT PAPER NAPKINS ",
           "SET/6 RED SPOTTY PAPER CUPS"
          ],
          [
           "SET/20 RED RETROSPOT PAPER NAPKINS ",
           "SET/6 RED SPOTTY PAPER PLATES"
          ],
          [
           "SET OF 9 BLACK SKULL BALLOONS",
           "POSTAGE"
          ],
          [
           "SET/6 RED SPOTTY PAPER PLATES",
           "SET/6 RED SPOTTY PAPER CUPS"
          ],
          [
           "PACK OF 6 SKULL PAPER CUPS",
           "POSTAGE"
          ],
          [
           "POSTAGE",
           "SET/6 RED SPOTTY PAPER CUPS"
          ],
          [
           "TEA PARTY BIRTHDAY CARD",
           "POSTAGE"
          ],
          [
           "STRAWBERRY LUNCH BOX WITH CUTLERY",
           "POSTAGE"
          ],
          [
           "RED RETROSPOT PICNIC BAG",
           "POSTAGE"
          ],
          [
           "SET OF 2 TEA TOWELS APPLE AND PEARS",
           "POSTAGE"
          ],
          [
           "ASSORTED COLOUR MINI CASES",
           "POSTAGE"
          ],
          [
           "CHILDRENS CUTLERY SPACEBOY ",
           "CHILDRENS CUTLERY DOLLY GIRL "
          ],
          [
           "LUNCH BAG RED RETROSPOT",
           "POSTAGE"
          ],
          [
           "ALARM CLOCK BAKELIKE RED ",
           "POSTAGE"
          ],
          [
           "ROUND SNACK BOXES SET OF4 WOODLAND ",
           "POSTAGE"
          ],
          [
           "ALARM CLOCK BAKELIKE GREEN",
           "POSTAGE"
          ],
          [
           "WOODLAND CHARLOTTE BAG",
           "POSTAGE"
          ],
          [
           "ALARM CLOCK BAKELIKE PINK",
           "POSTAGE"
          ],
          [
           "SET/6 RED SPOTTY PAPER CUPS",
           "SET/6 RED SPOTTY PAPER PLATES"
          ],
          [
           "ALARM CLOCK BAKELIKE PINK",
           "POSTAGE"
          ],
          [
           "PAPER BUNTING RETROSPOT",
           "POSTAGE"
          ],
          [
           "POSTAGE",
           "SET/6 RED SPOTTY PAPER PLATES"
          ],
          [
           "RABBIT NIGHT LIGHT",
           "POSTAGE"
          ],
          [
           "ALARM CLOCK BAKELIKE PINK",
           "ALARM CLOCK BAKELIKE RED "
          ],
          [
           "ALARM CLOCK BAKELIKE PINK",
           "ALARM CLOCK BAKELIKE GREEN"
          ],
          [
           "CHILDRENS CUTLERY DOLLY GIRL ",
           "CHILDRENS CUTLERY SPACEBOY "
          ],
          [
           "RED TOADSTOOL LED NIGHT LIGHT",
           "POSTAGE"
          ],
          [
           "ROUND SNACK BOXES SET OF 4 FRUITS ",
           "POSTAGE"
          ],
          [
           "COFFEE MUG APPLES DESIGN",
           "POSTAGE"
          ],
          [
           "PLASTERS IN TIN CIRCUS PARADE ",
           "POSTAGE"
          ],
          [
           "SET/6 RED SPOTTY PAPER CUPS",
           "POSTAGE"
          ],
          [
           "LUNCH BAG WOODLAND",
           "POSTAGE"
          ],
          [
           "POSTAGE",
           "ALARM CLOCK BAKELIKE RED "
          ],
          [
           "ALARM CLOCK BAKELIKE GREEN",
           "POSTAGE"
          ],
          [
           "RED RETROSPOT CHARLOTTE BAG",
           "POSTAGE"
          ],
          [
           "JUMBO BAG RED RETROSPOT",
           "POSTAGE"
          ],
          [
           "SET/6 RED SPOTTY PAPER PLATES",
           "POSTAGE"
          ],
          [
           "ALARM CLOCK BAKELIKE RED ",
           "ALARM CLOCK BAKELIKE GREEN"
          ],
          [
           "SET/6 RED SPOTTY PAPER CUPS",
           "POSTAGE"
          ],
          [
           "SET/10 RED POLKADOT PARTY CANDLES",
           "POSTAGE"
          ],
          [
           "ALARM CLOCK BAKELIKE PINK",
           "POSTAGE"
          ],
          [
           "SET/20 RED RETROSPOT PAPER NAPKINS ",
           "POSTAGE"
          ],
          [
           "PLASTERS IN TIN WOODLAND ANIMALS",
           "POSTAGE"
          ],
          [
           "PACK OF 72 RETROSPOT CAKE CASES",
           "POSTAGE"
          ],
          [
           "SET/20 RED RETROSPOT PAPER NAPKINS ",
           "POSTAGE"
          ],
          [
           "SET/20 RED RETROSPOT PAPER NAPKINS ",
           "POSTAGE"
          ],
          [
           "POSTAGE",
           "ALARM CLOCK BAKELIKE GREEN"
          ],
          [
           "SET/20 RED RETROSPOT PAPER NAPKINS ",
           "POSTAGE"
          ],
          [
           "LUNCH BAG APPLE DESIGN",
           "POSTAGE"
          ],
          [
           "RED RETROSPOT MINI CASES",
           "POSTAGE"
          ],
          [
           "PLASTERS IN TIN SPACEBOY",
           "POSTAGE"
          ],
          [
           "SET/6 RED SPOTTY PAPER CUPS",
           "SET/20 RED RETROSPOT PAPER NAPKINS "
          ],
          [
           "ALARM CLOCK BAKELIKE GREEN",
           "ALARM CLOCK BAKELIKE PINK"
          ],
          [
           "PLASTERS IN TIN WOODLAND ANIMALS",
           "POSTAGE"
          ],
          [
           "PLASTERS IN TIN CIRCUS PARADE ",
           "POSTAGE"
          ],
          [
           "PLASTERS IN TIN WOODLAND ANIMALS",
           "POSTAGE"
          ],
          [
           "SET/20 RED RETROSPOT PAPER NAPKINS ",
           "POSTAGE"
          ],
          [
           "SET/20 RED RETROSPOT PAPER NAPKINS ",
           "POSTAGE"
          ],
          [
           "POSTAGE",
           "SET/20 RED RETROSPOT PAPER NAPKINS "
          ],
          [
           "SET/6 RED SPOTTY PAPER PLATES",
           "POSTAGE"
          ],
          [
           "SET/6 RED SPOTTY PAPER PLATES",
           "SET/20 RED RETROSPOT PAPER NAPKINS "
          ],
          [
           "ALARM CLOCK BAKELIKE GREEN",
           "ALARM CLOCK BAKELIKE RED "
          ],
          [
           "LUNCH BOX WITH CUTLERY RETROSPOT ",
           "POSTAGE"
          ],
          [
           "LUNCH BAG RED RETROSPOT",
           "POSTAGE"
          ],
          [
           "POSTAGE",
           "SET/20 RED RETROSPOT PAPER NAPKINS "
          ],
          [
           "ALARM CLOCK BAKELIKE RED ",
           "ALARM CLOCK BAKELIKE PINK"
          ],
          [
           "PLASTERS IN TIN STRONGMAN",
           "POSTAGE"
          ],
          [
           "MINI PAINT SET VINTAGE ",
           "POSTAGE"
          ],
          [
           "SET/6 RED SPOTTY PAPER PLATES",
           "SET/20 RED RETROSPOT PAPER NAPKINS "
          ],
          [
           "REGENCY CAKESTAND 3 TIER",
           "POSTAGE"
          ],
          [
           "SPACEBOY LUNCH BOX ",
           "POSTAGE"
          ],
          [
           "SET/20 RED RETROSPOT PAPER NAPKINS ",
           "SET/6 RED SPOTTY PAPER CUPS"
          ],
          [
           "SET/20 RED RETROSPOT PAPER NAPKINS ",
           "SET/6 RED SPOTTY PAPER PLATES"
          ],
          [
           "SET/20 RED RETROSPOT PAPER NAPKINS ",
           "SET/6 RED SPOTTY PAPER PLATES"
          ],
          [
           "SET/20 RED RETROSPOT PAPER NAPKINS ",
           "SET/6 RED SPOTTY PAPER CUPS"
          ],
          [
           "POSTAGE",
           "ALARM CLOCK BAKELIKE PINK"
          ],
          [
           "POSTAGE",
           "SET/20 RED RETROSPOT PAPER NAPKINS "
          ],
          [
           "ALARM CLOCK BAKELIKE RED ",
           "POSTAGE"
          ],
          [
           "PLASTERS IN TIN CIRCUS PARADE ",
           "PLASTERS IN TIN WOODLAND ANIMALS"
          ],
          [
           "LUNCH BAG SPACEBOY DESIGN ",
           "POSTAGE"
          ],
          [
           "SET/20 RED RETROSPOT PAPER NAPKINS ",
           "SET/6 RED SPOTTY PAPER CUPS"
          ],
          [
           "PLASTERS IN TIN SPACEBOY",
           "PLASTERS IN TIN WOODLAND ANIMALS"
          ],
          [
           "SET/20 RED RETROSPOT PAPER NAPKINS ",
           "SET/6 RED SPOTTY PAPER CUPS"
          ],
          [
           "ALARM CLOCK BAKELIKE GREEN",
           "ALARM CLOCK BAKELIKE PINK"
          ],
          [
           "ALARM CLOCK BAKELIKE PINK",
           "ALARM CLOCK BAKELIKE RED "
          ],
          [
           "SET/6 RED SPOTTY PAPER CUPS",
           "SET/20 RED RETROSPOT PAPER NAPKINS "
          ],
          [
           "SET/6 RED SPOTTY PAPER CUPS",
           "POSTAGE"
          ],
          [
           "PLASTERS IN TIN SPACEBOY",
           "PLASTERS IN TIN WOODLAND ANIMALS"
          ],
          [
           "POSTAGE",
           "ALARM CLOCK BAKELIKE PINK"
          ],
          [
           "ALARM CLOCK BAKELIKE PINK",
           "ALARM CLOCK BAKELIKE GREEN"
          ],
          [
           "ALARM CLOCK BAKELIKE PINK",
           "ALARM CLOCK BAKELIKE RED "
          ],
          [
           "DOLLY GIRL LUNCH BOX",
           "POSTAGE"
          ],
          [
           "SET/6 RED SPOTTY PAPER CUPS",
           "SET/20 RED RETROSPOT PAPER NAPKINS "
          ],
          [
           "ALARM CLOCK BAKELIKE GREEN",
           "POSTAGE"
          ],
          [
           "POSTAGE",
           "SET/20 RED RETROSPOT PAPER NAPKINS "
          ],
          [
           "ALARM CLOCK BAKELIKE RED ",
           "ALARM CLOCK BAKELIKE PINK"
          ],
          [
           "DOLLY GIRL LUNCH BOX",
           "SPACEBOY LUNCH BOX "
          ],
          [
           "POSTAGE",
           "SET/20 RED RETROSPOT PAPER NAPKINS "
          ],
          [
           "ALARM CLOCK BAKELIKE PINK",
           "ALARM CLOCK BAKELIKE GREEN"
          ],
          [
           "ALARM CLOCK BAKELIKE RED ",
           "ALARM CLOCK BAKELIKE PINK"
          ],
          [
           "PLASTERS IN TIN WOODLAND ANIMALS",
           "PLASTERS IN TIN SPACEBOY"
          ],
          [
           "SET/6 RED SPOTTY PAPER CUPS",
           "SET/20 RED RETROSPOT PAPER NAPKINS "
          ],
          [
           "SET/6 RED SPOTTY PAPER PLATES",
           "SET/20 RED RETROSPOT PAPER NAPKINS "
          ],
          [
           "PLASTERS IN TIN WOODLAND ANIMALS",
           "PLASTERS IN TIN CIRCUS PARADE "
          ],
          [
           "PLASTERS IN TIN SPACEBOY",
           "PLASTERS IN TIN CIRCUS PARADE "
          ],
          [
           "ALARM CLOCK BAKELIKE PINK",
           "POSTAGE"
          ],
          [
           "PLASTERS IN TIN SPACEBOY",
           "PLASTERS IN TIN CIRCUS PARADE "
          ],
          [
           "ALARM CLOCK BAKELIKE GREEN",
           "ALARM CLOCK BAKELIKE PINK"
          ],
          [
           "SET/6 RED SPOTTY PAPER PLATES",
           "SET/20 RED RETROSPOT PAPER NAPKINS "
          ],
          [
           "SET/20 RED RETROSPOT PAPER NAPKINS ",
           "POSTAGE"
          ],
          [
           "SET/20 RED RETROSPOT PAPER NAPKINS ",
           "POSTAGE"
          ],
          [
           "ALARM CLOCK BAKELIKE PINK",
           "ALARM CLOCK BAKELIKE GREEN"
          ],
          [
           "SET/20 RED RETROSPOT PAPER NAPKINS ",
           "POSTAGE"
          ],
          [
           "ALARM CLOCK BAKELIKE GREEN",
           "ALARM CLOCK BAKELIKE PINK"
          ],
          [
           "PLASTERS IN TIN WOODLAND ANIMALS",
           "PLASTERS IN TIN SPACEBOY"
          ],
          [
           "PLASTERS IN TIN WOODLAND ANIMALS",
           "PLASTERS IN TIN SPACEBOY"
          ],
          [
           "PLASTERS IN TIN WOODLAND ANIMALS",
           "PLASTERS IN TIN CIRCUS PARADE "
          ],
          [
           "SET/6 RED SPOTTY PAPER CUPS",
           "SET/20 RED RETROSPOT PAPER NAPKINS "
          ],
          [
           "ALARM CLOCK BAKELIKE PINK",
           "POSTAGE"
          ],
          [
           "PLASTERS IN TIN SPACEBOY",
           "PLASTERS IN TIN WOODLAND ANIMALS"
          ],
          [
           "PLASTERS IN TIN WOODLAND ANIMALS",
           "PLASTERS IN TIN CIRCUS PARADE "
          ],
          [
           "SET/6 RED SPOTTY PAPER CUPS",
           "SET/20 RED RETROSPOT PAPER NAPKINS "
          ],
          [
           "PLASTERS IN TIN CIRCUS PARADE ",
           "PLASTERS IN TIN WOODLAND ANIMALS"
          ],
          [
           "POSTAGE",
           "LUNCH BAG RED RETROSPOT"
          ],
          [
           "ROUND SNACK BOXES SET OF 4 FRUITS ",
           "ROUND SNACK BOXES SET OF4 WOODLAND "
          ],
          [
           "SPACEBOY LUNCH BOX ",
           "DOLLY GIRL LUNCH BOX"
          ],
          [
           "PLASTERS IN TIN CIRCUS PARADE ",
           "PLASTERS IN TIN WOODLAND ANIMALS"
          ],
          [
           "LUNCH BAG WOODLAND",
           "LUNCH BAG SPACEBOY DESIGN "
          ],
          [
           "LUNCH BAG SPACEBOY DESIGN ",
           "LUNCH BAG APPLE DESIGN"
          ],
          [
           "LUNCH BAG SPACEBOY DESIGN ",
           "LUNCH BAG RED RETROSPOT"
          ],
          [
           "LUNCH BAG SPACEBOY DESIGN ",
           "LUNCH BAG WOODLAND"
          ],
          [
           "PLASTERS IN TIN CIRCUS PARADE ",
           "PLASTERS IN TIN SPACEBOY"
          ],
          [
           "PLASTERS IN TIN SPACEBOY",
           "PLASTERS IN TIN CIRCUS PARADE "
          ],
          [
           "STRAWBERRY LUNCH BOX WITH CUTLERY",
           "LUNCH BOX WITH CUTLERY RETROSPOT "
          ],
          [
           "LUNCH BAG APPLE DESIGN",
           "LUNCH BAG SPACEBOY DESIGN "
          ],
          [
           "LUNCH BAG APPLE DESIGN",
           "LUNCH BAG RED RETROSPOT"
          ],
          [
           "PLASTERS IN TIN CIRCUS PARADE ",
           "PLASTERS IN TIN SPACEBOY"
          ],
          [
           "LUNCH BAG RED RETROSPOT",
           "LUNCH BAG APPLE DESIGN"
          ]
         ],
         "hovertemplate": "support=%{x}<br>confidence=%{y}<br>antecedents_short=%{text}<br>antecedents=%{customdata[0]}<br>consequents=%{customdata[1]}<br>lift=%{marker.color}<extra></extra>",
         "legendgroup": "",
         "marker": {
          "color": [
           1.4823,
           8.3236,
           8.9895,
           8.2783,
           8.9406,
           1.4253,
           8.1956,
           1.423,
           8.1305,
           1.4022,
           1.3897,
           1.3801,
           1.3725,
           1.3725,
           14.719,
           1.3683,
           1.3621,
           1.3433,
           1.3389,
           1.329,
           1.329,
           8.1956,
           1.297,
           1.297,
           8.0174,
           1.2847,
           10.7409,
           10.1901,
           14.719,
           1.2764,
           1.2755,
           1.2706,
           1.2643,
           1.2627,
           1.2615,
           10.5717,
           1.2543,
           1.2483,
           1.2483,
           1.2451,
           9.9037,
           1.2353,
           1.2353,
           1.2267,
           1.2258,
           1.2229,
           1.2229,
           1.2229,
           1.2229,
           9.7345,
           1.2163,
           1.2155,
           1.2128,
           1.2128,
           7.2031,
           9.2944,
           1.1947,
           1.1941,
           1.1931,
           8.0174,
           8.781,
           7.0923,
           8.0174,
           7.0923,
           9.9037,
           1.1702,
           1.1664,
           6.9657,
           9.0331,
           1.1581,
           1.1569,
           8.9895,
           1.1529,
           1.1496,
           6.567,
           7.0923,
           7.0758,
           6.5517,
           8.8132,
           8.781,
           10.5717,
           5.1604,
           1.1117,
           7.2031,
           5.1292,
           7.1473,
           8.5699,
           9.2556,
           6.567,
           8.1305,
           5.0458,
           8.3818,
           8.5699,
           9.0331,
           1.0747,
           8.3236,
           9.7345,
           6.3599,
           9.2556,
           6.5857,
           8.0174,
           8.1055,
           10.7409,
           5.6577,
           7.1473,
           7.0758,
           4.4645,
           4.4374,
           8.8132,
           4.369,
           10.1901,
           8.9406,
           6.9657,
           6.3599,
           9.2944,
           7.0923,
           8.1055,
           5.1292,
           5.1222,
           4.143,
           6.5517,
           8.3818,
           5.1222,
           4.0474,
           8.2783,
           4.0474,
           4.4238,
           4.1879,
           6.5857,
           3.9148,
           5.3129,
           4.9942,
           4.0936,
           5.3129,
           4.4374,
           4.1909,
           4.2124,
           4.9942,
           3.9298,
           4.1909,
           4.61
          ],
          "coloraxis": "coloraxis",
          "opacity": 0.5,
          "symbol": "circle"
         },
         "mode": "markers+text",
         "name": "",
         "orientation": "v",
         "showlegend": false,
         "text": [
          "JUMBO BAG ",
          "SET/20 RED",
          "SET/20 RED",
          "SET/20 RED",
          "SET/20 RED",
          "SET OF 9 B",
          "SET/6 RED ",
          "PACK OF 6 ",
          "POSTAGE",
          "TEA PARTY ",
          "STRAWBERRY",
          "RED RETROS",
          "SET OF 2 T",
          "ASSORTED C",
          "CHILDRENS ",
          "LUNCH BAG ",
          "ALARM CLOC",
          "ROUND SNAC",
          "ALARM CLOC",
          "WOODLAND C",
          "ALARM CLOC",
          "SET/6 RED ",
          "ALARM CLOC",
          "PAPER BUNT",
          "POSTAGE",
          "RABBIT NIG",
          "ALARM CLOC",
          "ALARM CLOC",
          "CHILDRENS ",
          "RED TOADST",
          "ROUND SNAC",
          "COFFEE MUG",
          "PLASTERS I",
          "SET/6 RED ",
          "LUNCH BAG ",
          "POSTAGE",
          "ALARM CLOC",
          "RED RETROS",
          "JUMBO BAG ",
          "SET/6 RED ",
          "ALARM CLOC",
          "SET/6 RED ",
          "SET/10 RED",
          "ALARM CLOC",
          "SET/20 RED",
          "PLASTERS I",
          "PACK OF 72",
          "SET/20 RED",
          "SET/20 RED",
          "POSTAGE",
          "SET/20 RED",
          "LUNCH BAG ",
          "RED RETROS",
          "PLASTERS I",
          "SET/6 RED ",
          "ALARM CLOC",
          "PLASTERS I",
          "PLASTERS I",
          "PLASTERS I",
          "SET/20 RED",
          "SET/20 RED",
          "POSTAGE",
          "SET/6 RED ",
          "SET/6 RED ",
          "ALARM CLOC",
          "LUNCH BOX ",
          "LUNCH BAG ",
          "POSTAGE",
          "ALARM CLOC",
          "PLASTERS I",
          "MINI PAINT",
          "SET/6 RED ",
          "REGENCY CA",
          "SPACEBOY L",
          "SET/20 RED",
          "SET/20 RED",
          "SET/20 RED",
          "SET/20 RED",
          "POSTAGE",
          "POSTAGE",
          "ALARM CLOC",
          "PLASTERS I",
          "LUNCH BAG ",
          "SET/20 RED",
          "PLASTERS I",
          "SET/20 RED",
          "ALARM CLOC",
          "ALARM CLOC",
          "SET/6 RED ",
          "SET/6 RED ",
          "PLASTERS I",
          "POSTAGE",
          "ALARM CLOC",
          "ALARM CLOC",
          "DOLLY GIRL",
          "SET/6 RED ",
          "ALARM CLOC",
          "POSTAGE",
          "ALARM CLOC",
          "DOLLY GIRL",
          "POSTAGE",
          "ALARM CLOC",
          "ALARM CLOC",
          "PLASTERS I",
          "SET/6 RED ",
          "SET/6 RED ",
          "PLASTERS I",
          "PLASTERS I",
          "ALARM CLOC",
          "PLASTERS I",
          "ALARM CLOC",
          "SET/6 RED ",
          "SET/20 RED",
          "SET/20 RED",
          "ALARM CLOC",
          "SET/20 RED",
          "ALARM CLOC",
          "PLASTERS I",
          "PLASTERS I",
          "PLASTERS I",
          "SET/6 RED ",
          "ALARM CLOC",
          "PLASTERS I",
          "PLASTERS I",
          "SET/6 RED ",
          "PLASTERS I",
          "POSTAGE",
          "ROUND SNAC",
          "SPACEBOY L",
          "PLASTERS I",
          "LUNCH BAG ",
          "LUNCH BAG ",
          "LUNCH BAG ",
          "LUNCH BAG ",
          "PLASTERS I",
          "PLASTERS I",
          "STRAWBERRY",
          "LUNCH BAG ",
          "LUNCH BAG ",
          "PLASTERS I",
          "LUNCH BAG "
         ],
         "textposition": "top center",
         "type": "scatter",
         "x": [
          0.0651,
          0.0846,
          0.0846,
          0.0694,
          0.0694,
          0.0542,
          0.1041,
          0.0521,
          0.0868,
          0.0759,
          0.0976,
          0.0586,
          0.0542,
          0.0542,
          0.0542,
          0.0521,
          0.0738,
          0.1258,
          0.0607,
          0.0564,
          0.0564,
          0.1041,
          0.0759,
          0.0607,
          0.0868,
          0.141,
          0.0542,
          0.0542,
          0.0542,
          0.1345,
          0.0803,
          0.0521,
          0.1258,
          0.0998,
          0.0868,
          0.0607,
          0.0716,
          0.0694,
          0.0694,
          0.0911,
          0.0672,
          0.0868,
          0.0542,
          0.0521,
          0.0933,
          0.0716,
          0.0716,
          0.0716,
          0.0716,
          0.0607,
          0.0694,
          0.0889,
          0.0976,
          0.0976,
          0.0846,
          0.0542,
          0.1171,
          0.0629,
          0.0716,
          0.0694,
          0.0694,
          0.0694,
          0.0868,
          0.0868,
          0.0672,
          0.0976,
          0.1041,
          0.0716,
          0.0629,
          0.0542,
          0.0694,
          0.0846,
          0.0911,
          0.0824,
          0.0868,
          0.0868,
          0.0716,
          0.0716,
          0.0564,
          0.0694,
          0.0607,
          0.0586,
          0.0781,
          0.0846,
          0.0889,
          0.0694,
          0.0629,
          0.0564,
          0.0868,
          0.0868,
          0.0716,
          0.0521,
          0.0629,
          0.0629,
          0.0629,
          0.0846,
          0.0607,
          0.0716,
          0.0564,
          0.0607,
          0.0694,
          0.0521,
          0.0542,
          0.0586,
          0.0694,
          0.0716,
          0.0586,
          0.0781,
          0.0564,
          0.0629,
          0.0542,
          0.0694,
          0.0716,
          0.0716,
          0.0542,
          0.0694,
          0.0521,
          0.0889,
          0.0716,
          0.0716,
          0.0716,
          0.0521,
          0.0716,
          0.0868,
          0.0694,
          0.0868,
          0.0521,
          0.0542,
          0.0607,
          0.0716,
          0.0564,
          0.0564,
          0.0564,
          0.0564,
          0.0781,
          0.0629,
          0.0542,
          0.0564,
          0.0564,
          0.0629,
          0.0521
         ],
         "xaxis": "x",
         "y": [
          1,
          0.975,
          0.975,
          0.9697,
          0.9697,
          0.9615,
          0.96,
          0.96,
          0.9524,
          0.9459,
          0.9375,
          0.931,
          0.9259,
          0.9259,
          0.9259,
          0.9231,
          0.9189,
          0.9063,
          0.9032,
          0.8966,
          0.8966,
          0.8889,
          0.875,
          0.875,
          0.8696,
          0.8667,
          0.8621,
          0.8621,
          0.8621,
          0.8611,
          0.8605,
          0.8571,
          0.8529,
          0.8519,
          0.8511,
          0.8485,
          0.8462,
          0.8421,
          0.8421,
          0.84,
          0.8378,
          0.8333,
          0.8333,
          0.8276,
          0.8269,
          0.825,
          0.825,
          0.825,
          0.825,
          0.8235,
          0.8205,
          0.82,
          0.8182,
          0.8182,
          0.8125,
          0.8065,
          0.806,
          0.8056,
          0.8049,
          0.8,
          0.8,
          0.8,
          0.8,
          0.8,
          0.7949,
          0.7895,
          0.7869,
          0.7857,
          0.7838,
          0.7812,
          0.7805,
          0.78,
          0.7778,
          0.7755,
          0.7692,
          0.7692,
          0.7674,
          0.7674,
          0.7647,
          0.7619,
          0.7568,
          0.75,
          0.75,
          0.75,
          0.7455,
          0.7442,
          0.7436,
          0.7429,
          0.7407,
          0.7407,
          0.7333,
          0.7273,
          0.725,
          0.725,
          0.725,
          0.7222,
          0.7179,
          0.7174,
          0.7027,
          0.7,
          0.6957,
          0.6857,
          0.6757,
          0.675,
          0.6667,
          0.66,
          0.6585,
          0.6545,
          0.65,
          0.6444,
          0.641,
          0.64,
          0.6346,
          0.6346,
          0.625,
          0.6154,
          0.6154,
          0.6119,
          0.6111,
          0.6111,
          0.6111,
          0.6,
          0.6,
          0.597,
          0.5926,
          0.5882,
          0.5854,
          0.5814,
          0.5714,
          0.569,
          0.5532,
          0.5417,
          0.5417,
          0.5417,
          0.5294,
          0.5273,
          0.5208,
          0.52,
          0.52,
          0.5,
          0.5
         ],
         "yaxis": "y"
        }
       ],
       "layout": {
        "coloraxis": {
         "colorbar": {
          "title": {
           "text": "lift"
          }
         },
         "colorscale": [
          [
           0,
           "#0d0887"
          ],
          [
           0.1111111111111111,
           "#46039f"
          ],
          [
           0.2222222222222222,
           "#7201a8"
          ],
          [
           0.3333333333333333,
           "#9c179e"
          ],
          [
           0.4444444444444444,
           "#bd3786"
          ],
          [
           0.5555555555555556,
           "#d8576b"
          ],
          [
           0.6666666666666666,
           "#ed7953"
          ],
          [
           0.7777777777777778,
           "#fb9f3a"
          ],
          [
           0.8888888888888888,
           "#fdca26"
          ],
          [
           1,
           "#f0f921"
          ]
         ]
        },
        "height": 800,
        "legend": {
         "tracegroupgap": 0
        },
        "margin": {
         "t": 60
        },
        "plot_bgcolor": "rgb(240,240,240)",
        "template": {
         "data": {
          "bar": [
           {
            "error_x": {
             "color": "#2a3f5f"
            },
            "error_y": {
             "color": "#2a3f5f"
            },
            "marker": {
             "line": {
              "color": "#E5ECF6",
              "width": 0.5
             },
             "pattern": {
              "fillmode": "overlay",
              "size": 10,
              "solidity": 0.2
             }
            },
            "type": "bar"
           }
          ],
          "barpolar": [
           {
            "marker": {
             "line": {
              "color": "#E5ECF6",
              "width": 0.5
             },
             "pattern": {
              "fillmode": "overlay",
              "size": 10,
              "solidity": 0.2
             }
            },
            "type": "barpolar"
           }
          ],
          "carpet": [
           {
            "aaxis": {
             "endlinecolor": "#2a3f5f",
             "gridcolor": "white",
             "linecolor": "white",
             "minorgridcolor": "white",
             "startlinecolor": "#2a3f5f"
            },
            "baxis": {
             "endlinecolor": "#2a3f5f",
             "gridcolor": "white",
             "linecolor": "white",
             "minorgridcolor": "white",
             "startlinecolor": "#2a3f5f"
            },
            "type": "carpet"
           }
          ],
          "choropleth": [
           {
            "colorbar": {
             "outlinewidth": 0,
             "ticks": ""
            },
            "type": "choropleth"
           }
          ],
          "contour": [
           {
            "colorbar": {
             "outlinewidth": 0,
             "ticks": ""
            },
            "colorscale": [
             [
              0,
              "#0d0887"
             ],
             [
              0.1111111111111111,
              "#46039f"
             ],
             [
              0.2222222222222222,
              "#7201a8"
             ],
             [
              0.3333333333333333,
              "#9c179e"
             ],
             [
              0.4444444444444444,
              "#bd3786"
             ],
             [
              0.5555555555555556,
              "#d8576b"
             ],
             [
              0.6666666666666666,
              "#ed7953"
             ],
             [
              0.7777777777777778,
              "#fb9f3a"
             ],
             [
              0.8888888888888888,
              "#fdca26"
             ],
             [
              1,
              "#f0f921"
             ]
            ],
            "type": "contour"
           }
          ],
          "contourcarpet": [
           {
            "colorbar": {
             "outlinewidth": 0,
             "ticks": ""
            },
            "type": "contourcarpet"
           }
          ],
          "heatmap": [
           {
            "colorbar": {
             "outlinewidth": 0,
             "ticks": ""
            },
            "colorscale": [
             [
              0,
              "#0d0887"
             ],
             [
              0.1111111111111111,
              "#46039f"
             ],
             [
              0.2222222222222222,
              "#7201a8"
             ],
             [
              0.3333333333333333,
              "#9c179e"
             ],
             [
              0.4444444444444444,
              "#bd3786"
             ],
             [
              0.5555555555555556,
              "#d8576b"
             ],
             [
              0.6666666666666666,
              "#ed7953"
             ],
             [
              0.7777777777777778,
              "#fb9f3a"
             ],
             [
              0.8888888888888888,
              "#fdca26"
             ],
             [
              1,
              "#f0f921"
             ]
            ],
            "type": "heatmap"
           }
          ],
          "heatmapgl": [
           {
            "colorbar": {
             "outlinewidth": 0,
             "ticks": ""
            },
            "colorscale": [
             [
              0,
              "#0d0887"
             ],
             [
              0.1111111111111111,
              "#46039f"
             ],
             [
              0.2222222222222222,
              "#7201a8"
             ],
             [
              0.3333333333333333,
              "#9c179e"
             ],
             [
              0.4444444444444444,
              "#bd3786"
             ],
             [
              0.5555555555555556,
              "#d8576b"
             ],
             [
              0.6666666666666666,
              "#ed7953"
             ],
             [
              0.7777777777777778,
              "#fb9f3a"
             ],
             [
              0.8888888888888888,
              "#fdca26"
             ],
             [
              1,
              "#f0f921"
             ]
            ],
            "type": "heatmapgl"
           }
          ],
          "histogram": [
           {
            "marker": {
             "pattern": {
              "fillmode": "overlay",
              "size": 10,
              "solidity": 0.2
             }
            },
            "type": "histogram"
           }
          ],
          "histogram2d": [
           {
            "colorbar": {
             "outlinewidth": 0,
             "ticks": ""
            },
            "colorscale": [
             [
              0,
              "#0d0887"
             ],
             [
              0.1111111111111111,
              "#46039f"
             ],
             [
              0.2222222222222222,
              "#7201a8"
             ],
             [
              0.3333333333333333,
              "#9c179e"
             ],
             [
              0.4444444444444444,
              "#bd3786"
             ],
             [
              0.5555555555555556,
              "#d8576b"
             ],
             [
              0.6666666666666666,
              "#ed7953"
             ],
             [
              0.7777777777777778,
              "#fb9f3a"
             ],
             [
              0.8888888888888888,
              "#fdca26"
             ],
             [
              1,
              "#f0f921"
             ]
            ],
            "type": "histogram2d"
           }
          ],
          "histogram2dcontour": [
           {
            "colorbar": {
             "outlinewidth": 0,
             "ticks": ""
            },
            "colorscale": [
             [
              0,
              "#0d0887"
             ],
             [
              0.1111111111111111,
              "#46039f"
             ],
             [
              0.2222222222222222,
              "#7201a8"
             ],
             [
              0.3333333333333333,
              "#9c179e"
             ],
             [
              0.4444444444444444,
              "#bd3786"
             ],
             [
              0.5555555555555556,
              "#d8576b"
             ],
             [
              0.6666666666666666,
              "#ed7953"
             ],
             [
              0.7777777777777778,
              "#fb9f3a"
             ],
             [
              0.8888888888888888,
              "#fdca26"
             ],
             [
              1,
              "#f0f921"
             ]
            ],
            "type": "histogram2dcontour"
           }
          ],
          "mesh3d": [
           {
            "colorbar": {
             "outlinewidth": 0,
             "ticks": ""
            },
            "type": "mesh3d"
           }
          ],
          "parcoords": [
           {
            "line": {
             "colorbar": {
              "outlinewidth": 0,
              "ticks": ""
             }
            },
            "type": "parcoords"
           }
          ],
          "pie": [
           {
            "automargin": true,
            "type": "pie"
           }
          ],
          "scatter": [
           {
            "marker": {
             "colorbar": {
              "outlinewidth": 0,
              "ticks": ""
             }
            },
            "type": "scatter"
           }
          ],
          "scatter3d": [
           {
            "line": {
             "colorbar": {
              "outlinewidth": 0,
              "ticks": ""
             }
            },
            "marker": {
             "colorbar": {
              "outlinewidth": 0,
              "ticks": ""
             }
            },
            "type": "scatter3d"
           }
          ],
          "scattercarpet": [
           {
            "marker": {
             "colorbar": {
              "outlinewidth": 0,
              "ticks": ""
             }
            },
            "type": "scattercarpet"
           }
          ],
          "scattergeo": [
           {
            "marker": {
             "colorbar": {
              "outlinewidth": 0,
              "ticks": ""
             }
            },
            "type": "scattergeo"
           }
          ],
          "scattergl": [
           {
            "marker": {
             "colorbar": {
              "outlinewidth": 0,
              "ticks": ""
             }
            },
            "type": "scattergl"
           }
          ],
          "scattermapbox": [
           {
            "marker": {
             "colorbar": {
              "outlinewidth": 0,
              "ticks": ""
             }
            },
            "type": "scattermapbox"
           }
          ],
          "scatterpolar": [
           {
            "marker": {
             "colorbar": {
              "outlinewidth": 0,
              "ticks": ""
             }
            },
            "type": "scatterpolar"
           }
          ],
          "scatterpolargl": [
           {
            "marker": {
             "colorbar": {
              "outlinewidth": 0,
              "ticks": ""
             }
            },
            "type": "scatterpolargl"
           }
          ],
          "scatterternary": [
           {
            "marker": {
             "colorbar": {
              "outlinewidth": 0,
              "ticks": ""
             }
            },
            "type": "scatterternary"
           }
          ],
          "surface": [
           {
            "colorbar": {
             "outlinewidth": 0,
             "ticks": ""
            },
            "colorscale": [
             [
              0,
              "#0d0887"
             ],
             [
              0.1111111111111111,
              "#46039f"
             ],
             [
              0.2222222222222222,
              "#7201a8"
             ],
             [
              0.3333333333333333,
              "#9c179e"
             ],
             [
              0.4444444444444444,
              "#bd3786"
             ],
             [
              0.5555555555555556,
              "#d8576b"
             ],
             [
              0.6666666666666666,
              "#ed7953"
             ],
             [
              0.7777777777777778,
              "#fb9f3a"
             ],
             [
              0.8888888888888888,
              "#fdca26"
             ],
             [
              1,
              "#f0f921"
             ]
            ],
            "type": "surface"
           }
          ],
          "table": [
           {
            "cells": {
             "fill": {
              "color": "#EBF0F8"
             },
             "line": {
              "color": "white"
             }
            },
            "header": {
             "fill": {
              "color": "#C8D4E3"
             },
             "line": {
              "color": "white"
             }
            },
            "type": "table"
           }
          ]
         },
         "layout": {
          "annotationdefaults": {
           "arrowcolor": "#2a3f5f",
           "arrowhead": 0,
           "arrowwidth": 1
          },
          "autotypenumbers": "strict",
          "coloraxis": {
           "colorbar": {
            "outlinewidth": 0,
            "ticks": ""
           }
          },
          "colorscale": {
           "diverging": [
            [
             0,
             "#8e0152"
            ],
            [
             0.1,
             "#c51b7d"
            ],
            [
             0.2,
             "#de77ae"
            ],
            [
             0.3,
             "#f1b6da"
            ],
            [
             0.4,
             "#fde0ef"
            ],
            [
             0.5,
             "#f7f7f7"
            ],
            [
             0.6,
             "#e6f5d0"
            ],
            [
             0.7,
             "#b8e186"
            ],
            [
             0.8,
             "#7fbc41"
            ],
            [
             0.9,
             "#4d9221"
            ],
            [
             1,
             "#276419"
            ]
           ],
           "sequential": [
            [
             0,
             "#0d0887"
            ],
            [
             0.1111111111111111,
             "#46039f"
            ],
            [
             0.2222222222222222,
             "#7201a8"
            ],
            [
             0.3333333333333333,
             "#9c179e"
            ],
            [
             0.4444444444444444,
             "#bd3786"
            ],
            [
             0.5555555555555556,
             "#d8576b"
            ],
            [
             0.6666666666666666,
             "#ed7953"
            ],
            [
             0.7777777777777778,
             "#fb9f3a"
            ],
            [
             0.8888888888888888,
             "#fdca26"
            ],
            [
             1,
             "#f0f921"
            ]
           ],
           "sequentialminus": [
            [
             0,
             "#0d0887"
            ],
            [
             0.1111111111111111,
             "#46039f"
            ],
            [
             0.2222222222222222,
             "#7201a8"
            ],
            [
             0.3333333333333333,
             "#9c179e"
            ],
            [
             0.4444444444444444,
             "#bd3786"
            ],
            [
             0.5555555555555556,
             "#d8576b"
            ],
            [
             0.6666666666666666,
             "#ed7953"
            ],
            [
             0.7777777777777778,
             "#fb9f3a"
            ],
            [
             0.8888888888888888,
             "#fdca26"
            ],
            [
             1,
             "#f0f921"
            ]
           ]
          },
          "colorway": [
           "#636efa",
           "#EF553B",
           "#00cc96",
           "#ab63fa",
           "#FFA15A",
           "#19d3f3",
           "#FF6692",
           "#B6E880",
           "#FF97FF",
           "#FECB52"
          ],
          "font": {
           "color": "#2a3f5f"
          },
          "geo": {
           "bgcolor": "white",
           "lakecolor": "white",
           "landcolor": "#E5ECF6",
           "showlakes": true,
           "showland": true,
           "subunitcolor": "white"
          },
          "hoverlabel": {
           "align": "left"
          },
          "hovermode": "closest",
          "mapbox": {
           "style": "light"
          },
          "paper_bgcolor": "white",
          "plot_bgcolor": "#E5ECF6",
          "polar": {
           "angularaxis": {
            "gridcolor": "white",
            "linecolor": "white",
            "ticks": ""
           },
           "bgcolor": "#E5ECF6",
           "radialaxis": {
            "gridcolor": "white",
            "linecolor": "white",
            "ticks": ""
           }
          },
          "scene": {
           "xaxis": {
            "backgroundcolor": "#E5ECF6",
            "gridcolor": "white",
            "gridwidth": 2,
            "linecolor": "white",
            "showbackground": true,
            "ticks": "",
            "zerolinecolor": "white"
           },
           "yaxis": {
            "backgroundcolor": "#E5ECF6",
            "gridcolor": "white",
            "gridwidth": 2,
            "linecolor": "white",
            "showbackground": true,
            "ticks": "",
            "zerolinecolor": "white"
           },
           "zaxis": {
            "backgroundcolor": "#E5ECF6",
            "gridcolor": "white",
            "gridwidth": 2,
            "linecolor": "white",
            "showbackground": true,
            "ticks": "",
            "zerolinecolor": "white"
           }
          },
          "shapedefaults": {
           "line": {
            "color": "#2a3f5f"
           }
          },
          "ternary": {
           "aaxis": {
            "gridcolor": "white",
            "linecolor": "white",
            "ticks": ""
           },
           "baxis": {
            "gridcolor": "white",
            "linecolor": "white",
            "ticks": ""
           },
           "bgcolor": "#E5ECF6",
           "caxis": {
            "gridcolor": "white",
            "linecolor": "white",
            "ticks": ""
           }
          },
          "title": {
           "x": 0.05
          },
          "xaxis": {
           "automargin": true,
           "gridcolor": "white",
           "linecolor": "white",
           "ticks": "",
           "title": {
            "standoff": 15
           },
           "zerolinecolor": "white",
           "zerolinewidth": 2
          },
          "yaxis": {
           "automargin": true,
           "gridcolor": "white",
           "linecolor": "white",
           "ticks": "",
           "title": {
            "standoff": 15
           },
           "zerolinecolor": "white",
           "zerolinewidth": 2
          }
         }
        },
        "title": {
         "text": "2D Plot of Support, Confidence and Lift"
        },
        "xaxis": {
         "anchor": "y",
         "domain": [
          0,
          1
         ],
         "title": {
          "text": "support"
         },
         "type": "log"
        },
        "yaxis": {
         "anchor": "x",
         "domain": [
          0,
          1
         ],
         "title": {
          "text": "confidence"
         }
        }
       }
      },
      "text/html": [
       "<div>                            <div id=\"33d0795e-66fb-4494-a421-bbd61ba2daaf\" class=\"plotly-graph-div\" style=\"height:800px; width:100%;\"></div>            <script type=\"text/javascript\">                require([\"plotly\"], function(Plotly) {                    window.PLOTLYENV=window.PLOTLYENV || {};                                    if (document.getElementById(\"33d0795e-66fb-4494-a421-bbd61ba2daaf\")) {                    Plotly.newPlot(                        \"33d0795e-66fb-4494-a421-bbd61ba2daaf\",                        [{\"customdata\":[[\"JUMBO BAG WOODLAND ANIMALS\",\"POSTAGE\"],[\"SET/20 RED RETROSPOT PAPER NAPKINS \",\"SET/6 RED SPOTTY PAPER CUPS\"],[\"SET/20 RED RETROSPOT PAPER NAPKINS \",\"SET/6 RED SPOTTY PAPER PLATES\"],[\"SET/20 RED RETROSPOT PAPER NAPKINS \",\"SET/6 RED SPOTTY PAPER CUPS\"],[\"SET/20 RED RETROSPOT PAPER NAPKINS \",\"SET/6 RED SPOTTY PAPER PLATES\"],[\"SET OF 9 BLACK SKULL BALLOONS\",\"POSTAGE\"],[\"SET/6 RED SPOTTY PAPER PLATES\",\"SET/6 RED SPOTTY PAPER CUPS\"],[\"PACK OF 6 SKULL PAPER CUPS\",\"POSTAGE\"],[\"POSTAGE\",\"SET/6 RED SPOTTY PAPER CUPS\"],[\"TEA PARTY BIRTHDAY CARD\",\"POSTAGE\"],[\"STRAWBERRY LUNCH BOX WITH CUTLERY\",\"POSTAGE\"],[\"RED RETROSPOT PICNIC BAG\",\"POSTAGE\"],[\"SET OF 2 TEA TOWELS APPLE AND PEARS\",\"POSTAGE\"],[\"ASSORTED COLOUR MINI CASES\",\"POSTAGE\"],[\"CHILDRENS CUTLERY SPACEBOY \",\"CHILDRENS CUTLERY DOLLY GIRL \"],[\"LUNCH BAG RED RETROSPOT\",\"POSTAGE\"],[\"ALARM CLOCK BAKELIKE RED \",\"POSTAGE\"],[\"ROUND SNACK BOXES SET OF4 WOODLAND \",\"POSTAGE\"],[\"ALARM CLOCK BAKELIKE GREEN\",\"POSTAGE\"],[\"WOODLAND CHARLOTTE BAG\",\"POSTAGE\"],[\"ALARM CLOCK BAKELIKE PINK\",\"POSTAGE\"],[\"SET/6 RED SPOTTY PAPER CUPS\",\"SET/6 RED SPOTTY PAPER PLATES\"],[\"ALARM CLOCK BAKELIKE PINK\",\"POSTAGE\"],[\"PAPER BUNTING RETROSPOT\",\"POSTAGE\"],[\"POSTAGE\",\"SET/6 RED SPOTTY PAPER PLATES\"],[\"RABBIT NIGHT LIGHT\",\"POSTAGE\"],[\"ALARM CLOCK BAKELIKE PINK\",\"ALARM CLOCK BAKELIKE RED \"],[\"ALARM CLOCK BAKELIKE PINK\",\"ALARM CLOCK BAKELIKE GREEN\"],[\"CHILDRENS CUTLERY DOLLY GIRL \",\"CHILDRENS CUTLERY SPACEBOY \"],[\"RED TOADSTOOL LED NIGHT LIGHT\",\"POSTAGE\"],[\"ROUND SNACK BOXES SET OF 4 FRUITS \",\"POSTAGE\"],[\"COFFEE MUG APPLES DESIGN\",\"POSTAGE\"],[\"PLASTERS IN TIN CIRCUS PARADE \",\"POSTAGE\"],[\"SET/6 RED SPOTTY PAPER CUPS\",\"POSTAGE\"],[\"LUNCH BAG WOODLAND\",\"POSTAGE\"],[\"POSTAGE\",\"ALARM CLOCK BAKELIKE RED \"],[\"ALARM CLOCK BAKELIKE GREEN\",\"POSTAGE\"],[\"RED RETROSPOT CHARLOTTE BAG\",\"POSTAGE\"],[\"JUMBO BAG RED RETROSPOT\",\"POSTAGE\"],[\"SET/6 RED SPOTTY PAPER PLATES\",\"POSTAGE\"],[\"ALARM CLOCK BAKELIKE RED \",\"ALARM CLOCK BAKELIKE GREEN\"],[\"SET/6 RED SPOTTY PAPER CUPS\",\"POSTAGE\"],[\"SET/10 RED POLKADOT PARTY CANDLES\",\"POSTAGE\"],[\"ALARM CLOCK BAKELIKE PINK\",\"POSTAGE\"],[\"SET/20 RED RETROSPOT PAPER NAPKINS \",\"POSTAGE\"],[\"PLASTERS IN TIN WOODLAND ANIMALS\",\"POSTAGE\"],[\"PACK OF 72 RETROSPOT CAKE CASES\",\"POSTAGE\"],[\"SET/20 RED RETROSPOT PAPER NAPKINS \",\"POSTAGE\"],[\"SET/20 RED RETROSPOT PAPER NAPKINS \",\"POSTAGE\"],[\"POSTAGE\",\"ALARM CLOCK BAKELIKE GREEN\"],[\"SET/20 RED RETROSPOT PAPER NAPKINS \",\"POSTAGE\"],[\"LUNCH BAG APPLE DESIGN\",\"POSTAGE\"],[\"RED RETROSPOT MINI CASES\",\"POSTAGE\"],[\"PLASTERS IN TIN SPACEBOY\",\"POSTAGE\"],[\"SET/6 RED SPOTTY PAPER CUPS\",\"SET/20 RED RETROSPOT PAPER NAPKINS \"],[\"ALARM CLOCK BAKELIKE GREEN\",\"ALARM CLOCK BAKELIKE PINK\"],[\"PLASTERS IN TIN WOODLAND ANIMALS\",\"POSTAGE\"],[\"PLASTERS IN TIN CIRCUS PARADE \",\"POSTAGE\"],[\"PLASTERS IN TIN WOODLAND ANIMALS\",\"POSTAGE\"],[\"SET/20 RED RETROSPOT PAPER NAPKINS \",\"POSTAGE\"],[\"SET/20 RED RETROSPOT PAPER NAPKINS \",\"POSTAGE\"],[\"POSTAGE\",\"SET/20 RED RETROSPOT PAPER NAPKINS \"],[\"SET/6 RED SPOTTY PAPER PLATES\",\"POSTAGE\"],[\"SET/6 RED SPOTTY PAPER PLATES\",\"SET/20 RED RETROSPOT PAPER NAPKINS \"],[\"ALARM CLOCK BAKELIKE GREEN\",\"ALARM CLOCK BAKELIKE RED \"],[\"LUNCH BOX WITH CUTLERY RETROSPOT \",\"POSTAGE\"],[\"LUNCH BAG RED RETROSPOT\",\"POSTAGE\"],[\"POSTAGE\",\"SET/20 RED RETROSPOT PAPER NAPKINS \"],[\"ALARM CLOCK BAKELIKE RED \",\"ALARM CLOCK BAKELIKE PINK\"],[\"PLASTERS IN TIN STRONGMAN\",\"POSTAGE\"],[\"MINI PAINT SET VINTAGE \",\"POSTAGE\"],[\"SET/6 RED SPOTTY PAPER PLATES\",\"SET/20 RED RETROSPOT PAPER NAPKINS \"],[\"REGENCY CAKESTAND 3 TIER\",\"POSTAGE\"],[\"SPACEBOY LUNCH BOX \",\"POSTAGE\"],[\"SET/20 RED RETROSPOT PAPER NAPKINS \",\"SET/6 RED SPOTTY PAPER CUPS\"],[\"SET/20 RED RETROSPOT PAPER NAPKINS \",\"SET/6 RED SPOTTY PAPER PLATES\"],[\"SET/20 RED RETROSPOT PAPER NAPKINS \",\"SET/6 RED SPOTTY PAPER PLATES\"],[\"SET/20 RED RETROSPOT PAPER NAPKINS \",\"SET/6 RED SPOTTY PAPER CUPS\"],[\"POSTAGE\",\"ALARM CLOCK BAKELIKE PINK\"],[\"POSTAGE\",\"SET/20 RED RETROSPOT PAPER NAPKINS \"],[\"ALARM CLOCK BAKELIKE RED \",\"POSTAGE\"],[\"PLASTERS IN TIN CIRCUS PARADE \",\"PLASTERS IN TIN WOODLAND ANIMALS\"],[\"LUNCH BAG SPACEBOY DESIGN \",\"POSTAGE\"],[\"SET/20 RED RETROSPOT PAPER NAPKINS \",\"SET/6 RED SPOTTY PAPER CUPS\"],[\"PLASTERS IN TIN SPACEBOY\",\"PLASTERS IN TIN WOODLAND ANIMALS\"],[\"SET/20 RED RETROSPOT PAPER NAPKINS \",\"SET/6 RED SPOTTY PAPER CUPS\"],[\"ALARM CLOCK BAKELIKE GREEN\",\"ALARM CLOCK BAKELIKE PINK\"],[\"ALARM CLOCK BAKELIKE PINK\",\"ALARM CLOCK BAKELIKE RED \"],[\"SET/6 RED SPOTTY PAPER CUPS\",\"SET/20 RED RETROSPOT PAPER NAPKINS \"],[\"SET/6 RED SPOTTY PAPER CUPS\",\"POSTAGE\"],[\"PLASTERS IN TIN SPACEBOY\",\"PLASTERS IN TIN WOODLAND ANIMALS\"],[\"POSTAGE\",\"ALARM CLOCK BAKELIKE PINK\"],[\"ALARM CLOCK BAKELIKE PINK\",\"ALARM CLOCK BAKELIKE GREEN\"],[\"ALARM CLOCK BAKELIKE PINK\",\"ALARM CLOCK BAKELIKE RED \"],[\"DOLLY GIRL LUNCH BOX\",\"POSTAGE\"],[\"SET/6 RED SPOTTY PAPER CUPS\",\"SET/20 RED RETROSPOT PAPER NAPKINS \"],[\"ALARM CLOCK BAKELIKE GREEN\",\"POSTAGE\"],[\"POSTAGE\",\"SET/20 RED RETROSPOT PAPER NAPKINS \"],[\"ALARM CLOCK BAKELIKE RED \",\"ALARM CLOCK BAKELIKE PINK\"],[\"DOLLY GIRL LUNCH BOX\",\"SPACEBOY LUNCH BOX \"],[\"POSTAGE\",\"SET/20 RED RETROSPOT PAPER NAPKINS \"],[\"ALARM CLOCK BAKELIKE PINK\",\"ALARM CLOCK BAKELIKE GREEN\"],[\"ALARM CLOCK BAKELIKE RED \",\"ALARM CLOCK BAKELIKE PINK\"],[\"PLASTERS IN TIN WOODLAND ANIMALS\",\"PLASTERS IN TIN SPACEBOY\"],[\"SET/6 RED SPOTTY PAPER CUPS\",\"SET/20 RED RETROSPOT PAPER NAPKINS \"],[\"SET/6 RED SPOTTY PAPER PLATES\",\"SET/20 RED RETROSPOT PAPER NAPKINS \"],[\"PLASTERS IN TIN WOODLAND ANIMALS\",\"PLASTERS IN TIN CIRCUS PARADE \"],[\"PLASTERS IN TIN SPACEBOY\",\"PLASTERS IN TIN CIRCUS PARADE \"],[\"ALARM CLOCK BAKELIKE PINK\",\"POSTAGE\"],[\"PLASTERS IN TIN SPACEBOY\",\"PLASTERS IN TIN CIRCUS PARADE \"],[\"ALARM CLOCK BAKELIKE GREEN\",\"ALARM CLOCK BAKELIKE PINK\"],[\"SET/6 RED SPOTTY PAPER PLATES\",\"SET/20 RED RETROSPOT PAPER NAPKINS \"],[\"SET/20 RED RETROSPOT PAPER NAPKINS \",\"POSTAGE\"],[\"SET/20 RED RETROSPOT PAPER NAPKINS \",\"POSTAGE\"],[\"ALARM CLOCK BAKELIKE PINK\",\"ALARM CLOCK BAKELIKE GREEN\"],[\"SET/20 RED RETROSPOT PAPER NAPKINS \",\"POSTAGE\"],[\"ALARM CLOCK BAKELIKE GREEN\",\"ALARM CLOCK BAKELIKE PINK\"],[\"PLASTERS IN TIN WOODLAND ANIMALS\",\"PLASTERS IN TIN SPACEBOY\"],[\"PLASTERS IN TIN WOODLAND ANIMALS\",\"PLASTERS IN TIN SPACEBOY\"],[\"PLASTERS IN TIN WOODLAND ANIMALS\",\"PLASTERS IN TIN CIRCUS PARADE \"],[\"SET/6 RED SPOTTY PAPER CUPS\",\"SET/20 RED RETROSPOT PAPER NAPKINS \"],[\"ALARM CLOCK BAKELIKE PINK\",\"POSTAGE\"],[\"PLASTERS IN TIN SPACEBOY\",\"PLASTERS IN TIN WOODLAND ANIMALS\"],[\"PLASTERS IN TIN WOODLAND ANIMALS\",\"PLASTERS IN TIN CIRCUS PARADE \"],[\"SET/6 RED SPOTTY PAPER CUPS\",\"SET/20 RED RETROSPOT PAPER NAPKINS \"],[\"PLASTERS IN TIN CIRCUS PARADE \",\"PLASTERS IN TIN WOODLAND ANIMALS\"],[\"POSTAGE\",\"LUNCH BAG RED RETROSPOT\"],[\"ROUND SNACK BOXES SET OF 4 FRUITS \",\"ROUND SNACK BOXES SET OF4 WOODLAND \"],[\"SPACEBOY LUNCH BOX \",\"DOLLY GIRL LUNCH BOX\"],[\"PLASTERS IN TIN CIRCUS PARADE \",\"PLASTERS IN TIN WOODLAND ANIMALS\"],[\"LUNCH BAG WOODLAND\",\"LUNCH BAG SPACEBOY DESIGN \"],[\"LUNCH BAG SPACEBOY DESIGN \",\"LUNCH BAG APPLE DESIGN\"],[\"LUNCH BAG SPACEBOY DESIGN \",\"LUNCH BAG RED RETROSPOT\"],[\"LUNCH BAG SPACEBOY DESIGN \",\"LUNCH BAG WOODLAND\"],[\"PLASTERS IN TIN CIRCUS PARADE \",\"PLASTERS IN TIN SPACEBOY\"],[\"PLASTERS IN TIN SPACEBOY\",\"PLASTERS IN TIN CIRCUS PARADE \"],[\"STRAWBERRY LUNCH BOX WITH CUTLERY\",\"LUNCH BOX WITH CUTLERY RETROSPOT \"],[\"LUNCH BAG APPLE DESIGN\",\"LUNCH BAG SPACEBOY DESIGN \"],[\"LUNCH BAG APPLE DESIGN\",\"LUNCH BAG RED RETROSPOT\"],[\"PLASTERS IN TIN CIRCUS PARADE \",\"PLASTERS IN TIN SPACEBOY\"],[\"LUNCH BAG RED RETROSPOT\",\"LUNCH BAG APPLE DESIGN\"]],\"hovertemplate\":\"support=%{x}<br>confidence=%{y}<br>antecedents_short=%{text}<br>antecedents=%{customdata[0]}<br>consequents=%{customdata[1]}<br>lift=%{marker.color}<extra></extra>\",\"legendgroup\":\"\",\"marker\":{\"color\":[1.4823,8.3236,8.9895,8.2783,8.9406,1.4253,8.1956,1.423,8.1305,1.4022,1.3897,1.3801,1.3725,1.3725,14.719,1.3683,1.3621,1.3433,1.3389,1.329,1.329,8.1956,1.297,1.297,8.0174,1.2847,10.7409,10.1901,14.719,1.2764,1.2755,1.2706,1.2643,1.2627,1.2615,10.5717,1.2543,1.2483,1.2483,1.2451,9.9037,1.2353,1.2353,1.2267,1.2258,1.2229,1.2229,1.2229,1.2229,9.7345,1.2163,1.2155,1.2128,1.2128,7.2031,9.2944,1.1947,1.1941,1.1931,8.0174,8.781,7.0923,8.0174,7.0923,9.9037,1.1702,1.1664,6.9657,9.0331,1.1581,1.1569,8.9895,1.1529,1.1496,6.567,7.0923,7.0758,6.5517,8.8132,8.781,10.5717,5.1604,1.1117,7.2031,5.1292,7.1473,8.5699,9.2556,6.567,8.1305,5.0458,8.3818,8.5699,9.0331,1.0747,8.3236,9.7345,6.3599,9.2556,6.5857,8.0174,8.1055,10.7409,5.6577,7.1473,7.0758,4.4645,4.4374,8.8132,4.369,10.1901,8.9406,6.9657,6.3599,9.2944,7.0923,8.1055,5.1292,5.1222,4.143,6.5517,8.3818,5.1222,4.0474,8.2783,4.0474,4.4238,4.1879,6.5857,3.9148,5.3129,4.9942,4.0936,5.3129,4.4374,4.1909,4.2124,4.9942,3.9298,4.1909,4.61],\"coloraxis\":\"coloraxis\",\"opacity\":0.5,\"symbol\":\"circle\"},\"mode\":\"markers+text\",\"name\":\"\",\"orientation\":\"v\",\"showlegend\":false,\"text\":[\"JUMBO BAG \",\"SET/20 RED\",\"SET/20 RED\",\"SET/20 RED\",\"SET/20 RED\",\"SET OF 9 B\",\"SET/6 RED \",\"PACK OF 6 \",\"POSTAGE\",\"TEA PARTY \",\"STRAWBERRY\",\"RED RETROS\",\"SET OF 2 T\",\"ASSORTED C\",\"CHILDRENS \",\"LUNCH BAG \",\"ALARM CLOC\",\"ROUND SNAC\",\"ALARM CLOC\",\"WOODLAND C\",\"ALARM CLOC\",\"SET/6 RED \",\"ALARM CLOC\",\"PAPER BUNT\",\"POSTAGE\",\"RABBIT NIG\",\"ALARM CLOC\",\"ALARM CLOC\",\"CHILDRENS \",\"RED TOADST\",\"ROUND SNAC\",\"COFFEE MUG\",\"PLASTERS I\",\"SET/6 RED \",\"LUNCH BAG \",\"POSTAGE\",\"ALARM CLOC\",\"RED RETROS\",\"JUMBO BAG \",\"SET/6 RED \",\"ALARM CLOC\",\"SET/6 RED \",\"SET/10 RED\",\"ALARM CLOC\",\"SET/20 RED\",\"PLASTERS I\",\"PACK OF 72\",\"SET/20 RED\",\"SET/20 RED\",\"POSTAGE\",\"SET/20 RED\",\"LUNCH BAG \",\"RED RETROS\",\"PLASTERS I\",\"SET/6 RED \",\"ALARM CLOC\",\"PLASTERS I\",\"PLASTERS I\",\"PLASTERS I\",\"SET/20 RED\",\"SET/20 RED\",\"POSTAGE\",\"SET/6 RED \",\"SET/6 RED \",\"ALARM CLOC\",\"LUNCH BOX \",\"LUNCH BAG \",\"POSTAGE\",\"ALARM CLOC\",\"PLASTERS I\",\"MINI PAINT\",\"SET/6 RED \",\"REGENCY CA\",\"SPACEBOY L\",\"SET/20 RED\",\"SET/20 RED\",\"SET/20 RED\",\"SET/20 RED\",\"POSTAGE\",\"POSTAGE\",\"ALARM CLOC\",\"PLASTERS I\",\"LUNCH BAG \",\"SET/20 RED\",\"PLASTERS I\",\"SET/20 RED\",\"ALARM CLOC\",\"ALARM CLOC\",\"SET/6 RED \",\"SET/6 RED \",\"PLASTERS I\",\"POSTAGE\",\"ALARM CLOC\",\"ALARM CLOC\",\"DOLLY GIRL\",\"SET/6 RED \",\"ALARM CLOC\",\"POSTAGE\",\"ALARM CLOC\",\"DOLLY GIRL\",\"POSTAGE\",\"ALARM CLOC\",\"ALARM CLOC\",\"PLASTERS I\",\"SET/6 RED \",\"SET/6 RED \",\"PLASTERS I\",\"PLASTERS I\",\"ALARM CLOC\",\"PLASTERS I\",\"ALARM CLOC\",\"SET/6 RED \",\"SET/20 RED\",\"SET/20 RED\",\"ALARM CLOC\",\"SET/20 RED\",\"ALARM CLOC\",\"PLASTERS I\",\"PLASTERS I\",\"PLASTERS I\",\"SET/6 RED \",\"ALARM CLOC\",\"PLASTERS I\",\"PLASTERS I\",\"SET/6 RED \",\"PLASTERS I\",\"POSTAGE\",\"ROUND SNAC\",\"SPACEBOY L\",\"PLASTERS I\",\"LUNCH BAG \",\"LUNCH BAG \",\"LUNCH BAG \",\"LUNCH BAG \",\"PLASTERS I\",\"PLASTERS I\",\"STRAWBERRY\",\"LUNCH BAG \",\"LUNCH BAG \",\"PLASTERS I\",\"LUNCH BAG \"],\"x\":[0.0651,0.0846,0.0846,0.0694,0.0694,0.0542,0.1041,0.0521,0.0868,0.0759,0.0976,0.0586,0.0542,0.0542,0.0542,0.0521,0.0738,0.1258,0.0607,0.0564,0.0564,0.1041,0.0759,0.0607,0.0868,0.141,0.0542,0.0542,0.0542,0.1345,0.0803,0.0521,0.1258,0.0998,0.0868,0.0607,0.0716,0.0694,0.0694,0.0911,0.0672,0.0868,0.0542,0.0521,0.0933,0.0716,0.0716,0.0716,0.0716,0.0607,0.0694,0.0889,0.0976,0.0976,0.0846,0.0542,0.1171,0.0629,0.0716,0.0694,0.0694,0.0694,0.0868,0.0868,0.0672,0.0976,0.1041,0.0716,0.0629,0.0542,0.0694,0.0846,0.0911,0.0824,0.0868,0.0868,0.0716,0.0716,0.0564,0.0694,0.0607,0.0586,0.0781,0.0846,0.0889,0.0694,0.0629,0.0564,0.0868,0.0868,0.0716,0.0521,0.0629,0.0629,0.0629,0.0846,0.0607,0.0716,0.0564,0.0607,0.0694,0.0521,0.0542,0.0586,0.0694,0.0716,0.0586,0.0781,0.0564,0.0629,0.0542,0.0694,0.0716,0.0716,0.0542,0.0694,0.0521,0.0889,0.0716,0.0716,0.0716,0.0521,0.0716,0.0868,0.0694,0.0868,0.0521,0.0542,0.0607,0.0716,0.0564,0.0564,0.0564,0.0564,0.0781,0.0629,0.0542,0.0564,0.0564,0.0629,0.0521],\"xaxis\":\"x\",\"y\":[1.0,0.975,0.975,0.9697,0.9697,0.9615,0.96,0.96,0.9524,0.9459,0.9375,0.931,0.9259,0.9259,0.9259,0.9231,0.9189,0.9063,0.9032,0.8966,0.8966,0.8889,0.875,0.875,0.8696,0.8667,0.8621,0.8621,0.8621,0.8611,0.8605,0.8571,0.8529,0.8519,0.8511,0.8485,0.8462,0.8421,0.8421,0.84,0.8378,0.8333,0.8333,0.8276,0.8269,0.825,0.825,0.825,0.825,0.8235,0.8205,0.82,0.8182,0.8182,0.8125,0.8065,0.806,0.8056,0.8049,0.8,0.8,0.8,0.8,0.8,0.7949,0.7895,0.7869,0.7857,0.7838,0.7812,0.7805,0.78,0.7778,0.7755,0.7692,0.7692,0.7674,0.7674,0.7647,0.7619,0.7568,0.75,0.75,0.75,0.7455,0.7442,0.7436,0.7429,0.7407,0.7407,0.7333,0.7273,0.725,0.725,0.725,0.7222,0.7179,0.7174,0.7027,0.7,0.6957,0.6857,0.6757,0.675,0.6667,0.66,0.6585,0.6545,0.65,0.6444,0.641,0.64,0.6346,0.6346,0.625,0.6154,0.6154,0.6119,0.6111,0.6111,0.6111,0.6,0.6,0.597,0.5926,0.5882,0.5854,0.5814,0.5714,0.569,0.5532,0.5417,0.5417,0.5417,0.5294,0.5273,0.5208,0.52,0.52,0.5,0.5],\"yaxis\":\"y\",\"type\":\"scatter\",\"textposition\":\"top center\"}],                        {\"template\":{\"data\":{\"bar\":[{\"error_x\":{\"color\":\"#2a3f5f\"},\"error_y\":{\"color\":\"#2a3f5f\"},\"marker\":{\"line\":{\"color\":\"#E5ECF6\",\"width\":0.5},\"pattern\":{\"fillmode\":\"overlay\",\"size\":10,\"solidity\":0.2}},\"type\":\"bar\"}],\"barpolar\":[{\"marker\":{\"line\":{\"color\":\"#E5ECF6\",\"width\":0.5},\"pattern\":{\"fillmode\":\"overlay\",\"size\":10,\"solidity\":0.2}},\"type\":\"barpolar\"}],\"carpet\":[{\"aaxis\":{\"endlinecolor\":\"#2a3f5f\",\"gridcolor\":\"white\",\"linecolor\":\"white\",\"minorgridcolor\":\"white\",\"startlinecolor\":\"#2a3f5f\"},\"baxis\":{\"endlinecolor\":\"#2a3f5f\",\"gridcolor\":\"white\",\"linecolor\":\"white\",\"minorgridcolor\":\"white\",\"startlinecolor\":\"#2a3f5f\"},\"type\":\"carpet\"}],\"choropleth\":[{\"colorbar\":{\"outlinewidth\":0,\"ticks\":\"\"},\"type\":\"choropleth\"}],\"contour\":[{\"colorbar\":{\"outlinewidth\":0,\"ticks\":\"\"},\"colorscale\":[[0.0,\"#0d0887\"],[0.1111111111111111,\"#46039f\"],[0.2222222222222222,\"#7201a8\"],[0.3333333333333333,\"#9c179e\"],[0.4444444444444444,\"#bd3786\"],[0.5555555555555556,\"#d8576b\"],[0.6666666666666666,\"#ed7953\"],[0.7777777777777778,\"#fb9f3a\"],[0.8888888888888888,\"#fdca26\"],[1.0,\"#f0f921\"]],\"type\":\"contour\"}],\"contourcarpet\":[{\"colorbar\":{\"outlinewidth\":0,\"ticks\":\"\"},\"type\":\"contourcarpet\"}],\"heatmap\":[{\"colorbar\":{\"outlinewidth\":0,\"ticks\":\"\"},\"colorscale\":[[0.0,\"#0d0887\"],[0.1111111111111111,\"#46039f\"],[0.2222222222222222,\"#7201a8\"],[0.3333333333333333,\"#9c179e\"],[0.4444444444444444,\"#bd3786\"],[0.5555555555555556,\"#d8576b\"],[0.6666666666666666,\"#ed7953\"],[0.7777777777777778,\"#fb9f3a\"],[0.8888888888888888,\"#fdca26\"],[1.0,\"#f0f921\"]],\"type\":\"heatmap\"}],\"heatmapgl\":[{\"colorbar\":{\"outlinewidth\":0,\"ticks\":\"\"},\"colorscale\":[[0.0,\"#0d0887\"],[0.1111111111111111,\"#46039f\"],[0.2222222222222222,\"#7201a8\"],[0.3333333333333333,\"#9c179e\"],[0.4444444444444444,\"#bd3786\"],[0.5555555555555556,\"#d8576b\"],[0.6666666666666666,\"#ed7953\"],[0.7777777777777778,\"#fb9f3a\"],[0.8888888888888888,\"#fdca26\"],[1.0,\"#f0f921\"]],\"type\":\"heatmapgl\"}],\"histogram\":[{\"marker\":{\"pattern\":{\"fillmode\":\"overlay\",\"size\":10,\"solidity\":0.2}},\"type\":\"histogram\"}],\"histogram2d\":[{\"colorbar\":{\"outlinewidth\":0,\"ticks\":\"\"},\"colorscale\":[[0.0,\"#0d0887\"],[0.1111111111111111,\"#46039f\"],[0.2222222222222222,\"#7201a8\"],[0.3333333333333333,\"#9c179e\"],[0.4444444444444444,\"#bd3786\"],[0.5555555555555556,\"#d8576b\"],[0.6666666666666666,\"#ed7953\"],[0.7777777777777778,\"#fb9f3a\"],[0.8888888888888888,\"#fdca26\"],[1.0,\"#f0f921\"]],\"type\":\"histogram2d\"}],\"histogram2dcontour\":[{\"colorbar\":{\"outlinewidth\":0,\"ticks\":\"\"},\"colorscale\":[[0.0,\"#0d0887\"],[0.1111111111111111,\"#46039f\"],[0.2222222222222222,\"#7201a8\"],[0.3333333333333333,\"#9c179e\"],[0.4444444444444444,\"#bd3786\"],[0.5555555555555556,\"#d8576b\"],[0.6666666666666666,\"#ed7953\"],[0.7777777777777778,\"#fb9f3a\"],[0.8888888888888888,\"#fdca26\"],[1.0,\"#f0f921\"]],\"type\":\"histogram2dcontour\"}],\"mesh3d\":[{\"colorbar\":{\"outlinewidth\":0,\"ticks\":\"\"},\"type\":\"mesh3d\"}],\"parcoords\":[{\"line\":{\"colorbar\":{\"outlinewidth\":0,\"ticks\":\"\"}},\"type\":\"parcoords\"}],\"pie\":[{\"automargin\":true,\"type\":\"pie\"}],\"scatter\":[{\"marker\":{\"colorbar\":{\"outlinewidth\":0,\"ticks\":\"\"}},\"type\":\"scatter\"}],\"scatter3d\":[{\"line\":{\"colorbar\":{\"outlinewidth\":0,\"ticks\":\"\"}},\"marker\":{\"colorbar\":{\"outlinewidth\":0,\"ticks\":\"\"}},\"type\":\"scatter3d\"}],\"scattercarpet\":[{\"marker\":{\"colorbar\":{\"outlinewidth\":0,\"ticks\":\"\"}},\"type\":\"scattercarpet\"}],\"scattergeo\":[{\"marker\":{\"colorbar\":{\"outlinewidth\":0,\"ticks\":\"\"}},\"type\":\"scattergeo\"}],\"scattergl\":[{\"marker\":{\"colorbar\":{\"outlinewidth\":0,\"ticks\":\"\"}},\"type\":\"scattergl\"}],\"scattermapbox\":[{\"marker\":{\"colorbar\":{\"outlinewidth\":0,\"ticks\":\"\"}},\"type\":\"scattermapbox\"}],\"scatterpolar\":[{\"marker\":{\"colorbar\":{\"outlinewidth\":0,\"ticks\":\"\"}},\"type\":\"scatterpolar\"}],\"scatterpolargl\":[{\"marker\":{\"colorbar\":{\"outlinewidth\":0,\"ticks\":\"\"}},\"type\":\"scatterpolargl\"}],\"scatterternary\":[{\"marker\":{\"colorbar\":{\"outlinewidth\":0,\"ticks\":\"\"}},\"type\":\"scatterternary\"}],\"surface\":[{\"colorbar\":{\"outlinewidth\":0,\"ticks\":\"\"},\"colorscale\":[[0.0,\"#0d0887\"],[0.1111111111111111,\"#46039f\"],[0.2222222222222222,\"#7201a8\"],[0.3333333333333333,\"#9c179e\"],[0.4444444444444444,\"#bd3786\"],[0.5555555555555556,\"#d8576b\"],[0.6666666666666666,\"#ed7953\"],[0.7777777777777778,\"#fb9f3a\"],[0.8888888888888888,\"#fdca26\"],[1.0,\"#f0f921\"]],\"type\":\"surface\"}],\"table\":[{\"cells\":{\"fill\":{\"color\":\"#EBF0F8\"},\"line\":{\"color\":\"white\"}},\"header\":{\"fill\":{\"color\":\"#C8D4E3\"},\"line\":{\"color\":\"white\"}},\"type\":\"table\"}]},\"layout\":{\"annotationdefaults\":{\"arrowcolor\":\"#2a3f5f\",\"arrowhead\":0,\"arrowwidth\":1},\"autotypenumbers\":\"strict\",\"coloraxis\":{\"colorbar\":{\"outlinewidth\":0,\"ticks\":\"\"}},\"colorscale\":{\"diverging\":[[0,\"#8e0152\"],[0.1,\"#c51b7d\"],[0.2,\"#de77ae\"],[0.3,\"#f1b6da\"],[0.4,\"#fde0ef\"],[0.5,\"#f7f7f7\"],[0.6,\"#e6f5d0\"],[0.7,\"#b8e186\"],[0.8,\"#7fbc41\"],[0.9,\"#4d9221\"],[1,\"#276419\"]],\"sequential\":[[0.0,\"#0d0887\"],[0.1111111111111111,\"#46039f\"],[0.2222222222222222,\"#7201a8\"],[0.3333333333333333,\"#9c179e\"],[0.4444444444444444,\"#bd3786\"],[0.5555555555555556,\"#d8576b\"],[0.6666666666666666,\"#ed7953\"],[0.7777777777777778,\"#fb9f3a\"],[0.8888888888888888,\"#fdca26\"],[1.0,\"#f0f921\"]],\"sequentialminus\":[[0.0,\"#0d0887\"],[0.1111111111111111,\"#46039f\"],[0.2222222222222222,\"#7201a8\"],[0.3333333333333333,\"#9c179e\"],[0.4444444444444444,\"#bd3786\"],[0.5555555555555556,\"#d8576b\"],[0.6666666666666666,\"#ed7953\"],[0.7777777777777778,\"#fb9f3a\"],[0.8888888888888888,\"#fdca26\"],[1.0,\"#f0f921\"]]},\"colorway\":[\"#636efa\",\"#EF553B\",\"#00cc96\",\"#ab63fa\",\"#FFA15A\",\"#19d3f3\",\"#FF6692\",\"#B6E880\",\"#FF97FF\",\"#FECB52\"],\"font\":{\"color\":\"#2a3f5f\"},\"geo\":{\"bgcolor\":\"white\",\"lakecolor\":\"white\",\"landcolor\":\"#E5ECF6\",\"showlakes\":true,\"showland\":true,\"subunitcolor\":\"white\"},\"hoverlabel\":{\"align\":\"left\"},\"hovermode\":\"closest\",\"mapbox\":{\"style\":\"light\"},\"paper_bgcolor\":\"white\",\"plot_bgcolor\":\"#E5ECF6\",\"polar\":{\"angularaxis\":{\"gridcolor\":\"white\",\"linecolor\":\"white\",\"ticks\":\"\"},\"bgcolor\":\"#E5ECF6\",\"radialaxis\":{\"gridcolor\":\"white\",\"linecolor\":\"white\",\"ticks\":\"\"}},\"scene\":{\"xaxis\":{\"backgroundcolor\":\"#E5ECF6\",\"gridcolor\":\"white\",\"gridwidth\":2,\"linecolor\":\"white\",\"showbackground\":true,\"ticks\":\"\",\"zerolinecolor\":\"white\"},\"yaxis\":{\"backgroundcolor\":\"#E5ECF6\",\"gridcolor\":\"white\",\"gridwidth\":2,\"linecolor\":\"white\",\"showbackground\":true,\"ticks\":\"\",\"zerolinecolor\":\"white\"},\"zaxis\":{\"backgroundcolor\":\"#E5ECF6\",\"gridcolor\":\"white\",\"gridwidth\":2,\"linecolor\":\"white\",\"showbackground\":true,\"ticks\":\"\",\"zerolinecolor\":\"white\"}},\"shapedefaults\":{\"line\":{\"color\":\"#2a3f5f\"}},\"ternary\":{\"aaxis\":{\"gridcolor\":\"white\",\"linecolor\":\"white\",\"ticks\":\"\"},\"baxis\":{\"gridcolor\":\"white\",\"linecolor\":\"white\",\"ticks\":\"\"},\"bgcolor\":\"#E5ECF6\",\"caxis\":{\"gridcolor\":\"white\",\"linecolor\":\"white\",\"ticks\":\"\"}},\"title\":{\"x\":0.05},\"xaxis\":{\"automargin\":true,\"gridcolor\":\"white\",\"linecolor\":\"white\",\"ticks\":\"\",\"title\":{\"standoff\":15},\"zerolinecolor\":\"white\",\"zerolinewidth\":2},\"yaxis\":{\"automargin\":true,\"gridcolor\":\"white\",\"linecolor\":\"white\",\"ticks\":\"\",\"title\":{\"standoff\":15},\"zerolinecolor\":\"white\",\"zerolinewidth\":2}}},\"xaxis\":{\"anchor\":\"y\",\"domain\":[0.0,1.0],\"title\":{\"text\":\"support\"},\"type\":\"log\"},\"yaxis\":{\"anchor\":\"x\",\"domain\":[0.0,1.0],\"title\":{\"text\":\"confidence\"}},\"coloraxis\":{\"colorbar\":{\"title\":{\"text\":\"lift\"}},\"colorscale\":[[0.0,\"#0d0887\"],[0.1111111111111111,\"#46039f\"],[0.2222222222222222,\"#7201a8\"],[0.3333333333333333,\"#9c179e\"],[0.4444444444444444,\"#bd3786\"],[0.5555555555555556,\"#d8576b\"],[0.6666666666666666,\"#ed7953\"],[0.7777777777777778,\"#fb9f3a\"],[0.8888888888888888,\"#fdca26\"],[1.0,\"#f0f921\"]]},\"legend\":{\"tracegroupgap\":0},\"margin\":{\"t\":60},\"plot_bgcolor\":\"rgb(240,240,240)\",\"title\":{\"text\":\"2D Plot of Support, Confidence and Lift\"},\"height\":800},                        {\"responsive\": true}                    ).then(function(){\n",
       "                            \n",
       "var gd = document.getElementById('33d0795e-66fb-4494-a421-bbd61ba2daaf');\n",
       "var x = new MutationObserver(function (mutations, observer) {{\n",
       "        var display = window.getComputedStyle(gd).display;\n",
       "        if (!display || display === 'none') {{\n",
       "            console.log([gd, 'removed!']);\n",
       "            Plotly.purge(gd);\n",
       "            observer.disconnect();\n",
       "        }}\n",
       "}});\n",
       "\n",
       "// Listen for the removal of the full notebook cells\n",
       "var notebookContainer = gd.closest('#notebook-container');\n",
       "if (notebookContainer) {{\n",
       "    x.observe(notebookContainer, {childList: true});\n",
       "}}\n",
       "\n",
       "// Listen for the clearing of the current output cell\n",
       "var outputEl = gd.closest('.output');\n",
       "if (outputEl) {{\n",
       "    x.observe(outputEl, {childList: true});\n",
       "}}\n",
       "\n",
       "                        })                };                });            </script>        </div>"
      ]
     },
     "metadata": {},
     "output_type": "display_data"
    }
   ],
   "source": [
    "plot_model(model1)"
   ]
  },
  {
   "cell_type": "code",
   "execution_count": 10,
   "id": "b45c6f49",
   "metadata": {},
   "outputs": [
    {
     "data": {
      "text/html": [
       "        <script type=\"text/javascript\">\n",
       "        window.PlotlyConfig = {MathJaxConfig: 'local'};\n",
       "        if (window.MathJax) {MathJax.Hub.Config({SVG: {font: \"STIX-Web\"}});}\n",
       "        if (typeof require !== 'undefined') {\n",
       "        require.undef(\"plotly\");\n",
       "        requirejs.config({\n",
       "            paths: {\n",
       "                'plotly': ['https://cdn.plot.ly/plotly-2.9.0.min']\n",
       "            }\n",
       "        });\n",
       "        require(['plotly'], function(Plotly) {\n",
       "            window._Plotly = Plotly;\n",
       "        });\n",
       "        }\n",
       "        </script>\n",
       "        "
      ]
     },
     "metadata": {},
     "output_type": "display_data"
    },
    {
     "name": "stderr",
     "output_type": "stream",
     "text": [
      "C:\\Users\\dalei\\anaconda3\\envs\\tensorflow\\lib\\site-packages\\plotly\\io\\_renderers.py:396: DeprecationWarning:\n",
      "\n",
      "distutils Version classes are deprecated. Use packaging.version instead.\n",
      "\n",
      "C:\\Users\\dalei\\anaconda3\\envs\\tensorflow\\lib\\site-packages\\plotly\\io\\_renderers.py:396: DeprecationWarning:\n",
      "\n",
      "distutils Version classes are deprecated. Use packaging.version instead.\n",
      "\n"
     ]
    },
    {
     "data": {
      "application/vnd.plotly.v1+json": {
       "config": {
        "plotlyServerURL": "https://plot.ly"
       },
       "data": [
        {
         "customdata": [
          [
           "JUMBO BAG WOODLAND ANIMALS",
           "POSTAGE"
          ],
          [
           "SET/20 RED RETROSPOT PAPER NAPKINS ",
           "SET/6 RED SPOTTY PAPER CUPS"
          ],
          [
           "SET/20 RED RETROSPOT PAPER NAPKINS ",
           "SET/6 RED SPOTTY PAPER PLATES"
          ],
          [
           "SET/20 RED RETROSPOT PAPER NAPKINS ",
           "SET/6 RED SPOTTY PAPER CUPS"
          ],
          [
           "SET/20 RED RETROSPOT PAPER NAPKINS ",
           "SET/6 RED SPOTTY PAPER PLATES"
          ],
          [
           "SET OF 9 BLACK SKULL BALLOONS",
           "POSTAGE"
          ],
          [
           "SET/6 RED SPOTTY PAPER PLATES",
           "SET/6 RED SPOTTY PAPER CUPS"
          ],
          [
           "PACK OF 6 SKULL PAPER CUPS",
           "POSTAGE"
          ],
          [
           "POSTAGE",
           "SET/6 RED SPOTTY PAPER CUPS"
          ],
          [
           "TEA PARTY BIRTHDAY CARD",
           "POSTAGE"
          ],
          [
           "STRAWBERRY LUNCH BOX WITH CUTLERY",
           "POSTAGE"
          ],
          [
           "RED RETROSPOT PICNIC BAG",
           "POSTAGE"
          ],
          [
           "SET OF 2 TEA TOWELS APPLE AND PEARS",
           "POSTAGE"
          ],
          [
           "ASSORTED COLOUR MINI CASES",
           "POSTAGE"
          ],
          [
           "CHILDRENS CUTLERY SPACEBOY ",
           "CHILDRENS CUTLERY DOLLY GIRL "
          ],
          [
           "LUNCH BAG RED RETROSPOT",
           "POSTAGE"
          ],
          [
           "ALARM CLOCK BAKELIKE RED ",
           "POSTAGE"
          ],
          [
           "ROUND SNACK BOXES SET OF4 WOODLAND ",
           "POSTAGE"
          ],
          [
           "ALARM CLOCK BAKELIKE GREEN",
           "POSTAGE"
          ],
          [
           "WOODLAND CHARLOTTE BAG",
           "POSTAGE"
          ],
          [
           "ALARM CLOCK BAKELIKE PINK",
           "POSTAGE"
          ],
          [
           "SET/6 RED SPOTTY PAPER CUPS",
           "SET/6 RED SPOTTY PAPER PLATES"
          ],
          [
           "ALARM CLOCK BAKELIKE PINK",
           "POSTAGE"
          ],
          [
           "PAPER BUNTING RETROSPOT",
           "POSTAGE"
          ],
          [
           "POSTAGE",
           "SET/6 RED SPOTTY PAPER PLATES"
          ],
          [
           "RABBIT NIGHT LIGHT",
           "POSTAGE"
          ],
          [
           "ALARM CLOCK BAKELIKE PINK",
           "ALARM CLOCK BAKELIKE RED "
          ],
          [
           "ALARM CLOCK BAKELIKE PINK",
           "ALARM CLOCK BAKELIKE GREEN"
          ],
          [
           "CHILDRENS CUTLERY DOLLY GIRL ",
           "CHILDRENS CUTLERY SPACEBOY "
          ],
          [
           "RED TOADSTOOL LED NIGHT LIGHT",
           "POSTAGE"
          ],
          [
           "ROUND SNACK BOXES SET OF 4 FRUITS ",
           "POSTAGE"
          ],
          [
           "COFFEE MUG APPLES DESIGN",
           "POSTAGE"
          ],
          [
           "PLASTERS IN TIN CIRCUS PARADE ",
           "POSTAGE"
          ],
          [
           "SET/6 RED SPOTTY PAPER CUPS",
           "POSTAGE"
          ],
          [
           "LUNCH BAG WOODLAND",
           "POSTAGE"
          ],
          [
           "POSTAGE",
           "ALARM CLOCK BAKELIKE RED "
          ],
          [
           "ALARM CLOCK BAKELIKE GREEN",
           "POSTAGE"
          ],
          [
           "RED RETROSPOT CHARLOTTE BAG",
           "POSTAGE"
          ],
          [
           "JUMBO BAG RED RETROSPOT",
           "POSTAGE"
          ],
          [
           "SET/6 RED SPOTTY PAPER PLATES",
           "POSTAGE"
          ],
          [
           "ALARM CLOCK BAKELIKE RED ",
           "ALARM CLOCK BAKELIKE GREEN"
          ],
          [
           "SET/6 RED SPOTTY PAPER CUPS",
           "POSTAGE"
          ],
          [
           "SET/10 RED POLKADOT PARTY CANDLES",
           "POSTAGE"
          ],
          [
           "ALARM CLOCK BAKELIKE PINK",
           "POSTAGE"
          ],
          [
           "SET/20 RED RETROSPOT PAPER NAPKINS ",
           "POSTAGE"
          ],
          [
           "PLASTERS IN TIN WOODLAND ANIMALS",
           "POSTAGE"
          ],
          [
           "PACK OF 72 RETROSPOT CAKE CASES",
           "POSTAGE"
          ],
          [
           "SET/20 RED RETROSPOT PAPER NAPKINS ",
           "POSTAGE"
          ],
          [
           "SET/20 RED RETROSPOT PAPER NAPKINS ",
           "POSTAGE"
          ],
          [
           "POSTAGE",
           "ALARM CLOCK BAKELIKE GREEN"
          ],
          [
           "SET/20 RED RETROSPOT PAPER NAPKINS ",
           "POSTAGE"
          ],
          [
           "LUNCH BAG APPLE DESIGN",
           "POSTAGE"
          ],
          [
           "RED RETROSPOT MINI CASES",
           "POSTAGE"
          ],
          [
           "PLASTERS IN TIN SPACEBOY",
           "POSTAGE"
          ],
          [
           "SET/6 RED SPOTTY PAPER CUPS",
           "SET/20 RED RETROSPOT PAPER NAPKINS "
          ],
          [
           "ALARM CLOCK BAKELIKE GREEN",
           "ALARM CLOCK BAKELIKE PINK"
          ],
          [
           "PLASTERS IN TIN WOODLAND ANIMALS",
           "POSTAGE"
          ],
          [
           "PLASTERS IN TIN CIRCUS PARADE ",
           "POSTAGE"
          ],
          [
           "PLASTERS IN TIN WOODLAND ANIMALS",
           "POSTAGE"
          ],
          [
           "SET/20 RED RETROSPOT PAPER NAPKINS ",
           "POSTAGE"
          ],
          [
           "SET/20 RED RETROSPOT PAPER NAPKINS ",
           "POSTAGE"
          ],
          [
           "POSTAGE",
           "SET/20 RED RETROSPOT PAPER NAPKINS "
          ],
          [
           "SET/6 RED SPOTTY PAPER PLATES",
           "POSTAGE"
          ],
          [
           "SET/6 RED SPOTTY PAPER PLATES",
           "SET/20 RED RETROSPOT PAPER NAPKINS "
          ],
          [
           "ALARM CLOCK BAKELIKE GREEN",
           "ALARM CLOCK BAKELIKE RED "
          ],
          [
           "LUNCH BOX WITH CUTLERY RETROSPOT ",
           "POSTAGE"
          ],
          [
           "LUNCH BAG RED RETROSPOT",
           "POSTAGE"
          ],
          [
           "POSTAGE",
           "SET/20 RED RETROSPOT PAPER NAPKINS "
          ],
          [
           "ALARM CLOCK BAKELIKE RED ",
           "ALARM CLOCK BAKELIKE PINK"
          ],
          [
           "PLASTERS IN TIN STRONGMAN",
           "POSTAGE"
          ],
          [
           "MINI PAINT SET VINTAGE ",
           "POSTAGE"
          ],
          [
           "SET/6 RED SPOTTY PAPER PLATES",
           "SET/20 RED RETROSPOT PAPER NAPKINS "
          ],
          [
           "REGENCY CAKESTAND 3 TIER",
           "POSTAGE"
          ],
          [
           "SPACEBOY LUNCH BOX ",
           "POSTAGE"
          ],
          [
           "SET/20 RED RETROSPOT PAPER NAPKINS ",
           "SET/6 RED SPOTTY PAPER CUPS"
          ],
          [
           "SET/20 RED RETROSPOT PAPER NAPKINS ",
           "SET/6 RED SPOTTY PAPER PLATES"
          ],
          [
           "SET/20 RED RETROSPOT PAPER NAPKINS ",
           "SET/6 RED SPOTTY PAPER PLATES"
          ],
          [
           "SET/20 RED RETROSPOT PAPER NAPKINS ",
           "SET/6 RED SPOTTY PAPER CUPS"
          ],
          [
           "POSTAGE",
           "ALARM CLOCK BAKELIKE PINK"
          ],
          [
           "POSTAGE",
           "SET/20 RED RETROSPOT PAPER NAPKINS "
          ],
          [
           "ALARM CLOCK BAKELIKE RED ",
           "POSTAGE"
          ],
          [
           "PLASTERS IN TIN CIRCUS PARADE ",
           "PLASTERS IN TIN WOODLAND ANIMALS"
          ],
          [
           "LUNCH BAG SPACEBOY DESIGN ",
           "POSTAGE"
          ],
          [
           "SET/20 RED RETROSPOT PAPER NAPKINS ",
           "SET/6 RED SPOTTY PAPER CUPS"
          ],
          [
           "PLASTERS IN TIN SPACEBOY",
           "PLASTERS IN TIN WOODLAND ANIMALS"
          ],
          [
           "SET/20 RED RETROSPOT PAPER NAPKINS ",
           "SET/6 RED SPOTTY PAPER CUPS"
          ],
          [
           "ALARM CLOCK BAKELIKE GREEN",
           "ALARM CLOCK BAKELIKE PINK"
          ],
          [
           "ALARM CLOCK BAKELIKE PINK",
           "ALARM CLOCK BAKELIKE RED "
          ],
          [
           "SET/6 RED SPOTTY PAPER CUPS",
           "SET/20 RED RETROSPOT PAPER NAPKINS "
          ],
          [
           "SET/6 RED SPOTTY PAPER CUPS",
           "POSTAGE"
          ],
          [
           "PLASTERS IN TIN SPACEBOY",
           "PLASTERS IN TIN WOODLAND ANIMALS"
          ],
          [
           "POSTAGE",
           "ALARM CLOCK BAKELIKE PINK"
          ],
          [
           "ALARM CLOCK BAKELIKE PINK",
           "ALARM CLOCK BAKELIKE GREEN"
          ],
          [
           "ALARM CLOCK BAKELIKE PINK",
           "ALARM CLOCK BAKELIKE RED "
          ],
          [
           "DOLLY GIRL LUNCH BOX",
           "POSTAGE"
          ],
          [
           "SET/6 RED SPOTTY PAPER CUPS",
           "SET/20 RED RETROSPOT PAPER NAPKINS "
          ],
          [
           "ALARM CLOCK BAKELIKE GREEN",
           "POSTAGE"
          ],
          [
           "POSTAGE",
           "SET/20 RED RETROSPOT PAPER NAPKINS "
          ],
          [
           "ALARM CLOCK BAKELIKE RED ",
           "ALARM CLOCK BAKELIKE PINK"
          ],
          [
           "DOLLY GIRL LUNCH BOX",
           "SPACEBOY LUNCH BOX "
          ],
          [
           "POSTAGE",
           "SET/20 RED RETROSPOT PAPER NAPKINS "
          ],
          [
           "ALARM CLOCK BAKELIKE PINK",
           "ALARM CLOCK BAKELIKE GREEN"
          ],
          [
           "ALARM CLOCK BAKELIKE RED ",
           "ALARM CLOCK BAKELIKE PINK"
          ],
          [
           "PLASTERS IN TIN WOODLAND ANIMALS",
           "PLASTERS IN TIN SPACEBOY"
          ],
          [
           "SET/6 RED SPOTTY PAPER CUPS",
           "SET/20 RED RETROSPOT PAPER NAPKINS "
          ],
          [
           "SET/6 RED SPOTTY PAPER PLATES",
           "SET/20 RED RETROSPOT PAPER NAPKINS "
          ],
          [
           "PLASTERS IN TIN WOODLAND ANIMALS",
           "PLASTERS IN TIN CIRCUS PARADE "
          ],
          [
           "PLASTERS IN TIN SPACEBOY",
           "PLASTERS IN TIN CIRCUS PARADE "
          ],
          [
           "ALARM CLOCK BAKELIKE PINK",
           "POSTAGE"
          ],
          [
           "PLASTERS IN TIN SPACEBOY",
           "PLASTERS IN TIN CIRCUS PARADE "
          ],
          [
           "ALARM CLOCK BAKELIKE GREEN",
           "ALARM CLOCK BAKELIKE PINK"
          ],
          [
           "SET/6 RED SPOTTY PAPER PLATES",
           "SET/20 RED RETROSPOT PAPER NAPKINS "
          ],
          [
           "SET/20 RED RETROSPOT PAPER NAPKINS ",
           "POSTAGE"
          ],
          [
           "SET/20 RED RETROSPOT PAPER NAPKINS ",
           "POSTAGE"
          ],
          [
           "ALARM CLOCK BAKELIKE PINK",
           "ALARM CLOCK BAKELIKE GREEN"
          ],
          [
           "SET/20 RED RETROSPOT PAPER NAPKINS ",
           "POSTAGE"
          ],
          [
           "ALARM CLOCK BAKELIKE GREEN",
           "ALARM CLOCK BAKELIKE PINK"
          ],
          [
           "PLASTERS IN TIN WOODLAND ANIMALS",
           "PLASTERS IN TIN SPACEBOY"
          ],
          [
           "PLASTERS IN TIN WOODLAND ANIMALS",
           "PLASTERS IN TIN SPACEBOY"
          ],
          [
           "PLASTERS IN TIN WOODLAND ANIMALS",
           "PLASTERS IN TIN CIRCUS PARADE "
          ],
          [
           "SET/6 RED SPOTTY PAPER CUPS",
           "SET/20 RED RETROSPOT PAPER NAPKINS "
          ],
          [
           "ALARM CLOCK BAKELIKE PINK",
           "POSTAGE"
          ],
          [
           "PLASTERS IN TIN SPACEBOY",
           "PLASTERS IN TIN WOODLAND ANIMALS"
          ],
          [
           "PLASTERS IN TIN WOODLAND ANIMALS",
           "PLASTERS IN TIN CIRCUS PARADE "
          ],
          [
           "SET/6 RED SPOTTY PAPER CUPS",
           "SET/20 RED RETROSPOT PAPER NAPKINS "
          ],
          [
           "PLASTERS IN TIN CIRCUS PARADE ",
           "PLASTERS IN TIN WOODLAND ANIMALS"
          ],
          [
           "POSTAGE",
           "LUNCH BAG RED RETROSPOT"
          ],
          [
           "ROUND SNACK BOXES SET OF 4 FRUITS ",
           "ROUND SNACK BOXES SET OF4 WOODLAND "
          ],
          [
           "SPACEBOY LUNCH BOX ",
           "DOLLY GIRL LUNCH BOX"
          ],
          [
           "PLASTERS IN TIN CIRCUS PARADE ",
           "PLASTERS IN TIN WOODLAND ANIMALS"
          ],
          [
           "LUNCH BAG WOODLAND",
           "LUNCH BAG SPACEBOY DESIGN "
          ],
          [
           "LUNCH BAG SPACEBOY DESIGN ",
           "LUNCH BAG APPLE DESIGN"
          ],
          [
           "LUNCH BAG SPACEBOY DESIGN ",
           "LUNCH BAG RED RETROSPOT"
          ],
          [
           "LUNCH BAG SPACEBOY DESIGN ",
           "LUNCH BAG WOODLAND"
          ],
          [
           "PLASTERS IN TIN CIRCUS PARADE ",
           "PLASTERS IN TIN SPACEBOY"
          ],
          [
           "PLASTERS IN TIN SPACEBOY",
           "PLASTERS IN TIN CIRCUS PARADE "
          ],
          [
           "STRAWBERRY LUNCH BOX WITH CUTLERY",
           "LUNCH BOX WITH CUTLERY RETROSPOT "
          ],
          [
           "LUNCH BAG APPLE DESIGN",
           "LUNCH BAG SPACEBOY DESIGN "
          ],
          [
           "LUNCH BAG APPLE DESIGN",
           "LUNCH BAG RED RETROSPOT"
          ],
          [
           "PLASTERS IN TIN CIRCUS PARADE ",
           "PLASTERS IN TIN SPACEBOY"
          ],
          [
           "LUNCH BAG RED RETROSPOT",
           "LUNCH BAG APPLE DESIGN"
          ]
         ],
         "hovertemplate": "support=%{x}<br>confidence=%{y}<br>lift=%{z}<br>antecedents=%{customdata[0]}<br>consequents=%{customdata[1]}<br>antecedent support=%{marker.color}<extra></extra>",
         "legendgroup": "",
         "marker": {
          "color": [
           0.0651,
           0.0868,
           0.0868,
           0.0716,
           0.0716,
           0.0564,
           0.1085,
           0.0542,
           0.0911,
           0.0803,
           0.1041,
           0.0629,
           0.0586,
           0.0586,
           0.0586,
           0.0564,
           0.0803,
           0.1388,
           0.0672,
           0.0629,
           0.0629,
           0.1171,
           0.0868,
           0.0694,
           0.0998,
           0.1627,
           0.0629,
           0.0629,
           0.0629,
           0.1562,
           0.0933,
           0.0607,
           0.1475,
           0.1171,
           0.102,
           0.0716,
           0.0846,
           0.0824,
           0.0824,
           0.1085,
           0.0803,
           0.1041,
           0.0651,
           0.0629,
           0.1128,
           0.0868,
           0.0868,
           0.0868,
           0.0868,
           0.0738,
           0.0846,
           0.1085,
           0.1193,
           0.1193,
           0.1041,
           0.0672,
           0.1453,
           0.0781,
           0.0889,
           0.0868,
           0.0868,
           0.0868,
           0.1085,
           0.1085,
           0.0846,
           0.1236,
           0.1323,
           0.0911,
           0.0803,
           0.0694,
           0.0889,
           0.1085,
           0.1171,
           0.1063,
           0.1128,
           0.1128,
           0.0933,
           0.0933,
           0.0738,
           0.0911,
           0.0803,
           0.0781,
           0.1041,
           0.1128,
           0.1193,
           0.0933,
           0.0846,
           0.0759,
           0.1171,
           0.1171,
           0.0976,
           0.0716,
           0.0868,
           0.0868,
           0.0868,
           0.1171,
           0.0846,
           0.0998,
           0.0803,
           0.0868,
           0.0998,
           0.0759,
           0.0803,
           0.0868,
           0.1041,
           0.1085,
           0.0889,
           0.1193,
           0.0868,
           0.0976,
           0.0846,
           0.1085,
           0.1128,
           0.1128,
           0.0868,
           0.1128,
           0.0846,
           0.1453,
           0.1171,
           0.1171,
           0.1171,
           0.0868,
           0.1193,
           0.1453,
           0.1171,
           0.1475,
           0.0889,
           0.0933,
           0.1063,
           0.1258,
           0.102,
           0.1041,
           0.1041,
           0.1041,
           0.1475,
           0.1193,
           0.1041,
           0.1085,
           0.1085,
           0.1258,
           0.1041
          ],
          "coloraxis": "coloraxis",
          "opacity": 0.7,
          "symbol": "circle"
         },
         "mode": "markers",
         "name": "",
         "scene": "scene",
         "showlegend": false,
         "type": "scatter3d",
         "x": [
          0.0651,
          0.0846,
          0.0846,
          0.0694,
          0.0694,
          0.0542,
          0.1041,
          0.0521,
          0.0868,
          0.0759,
          0.0976,
          0.0586,
          0.0542,
          0.0542,
          0.0542,
          0.0521,
          0.0738,
          0.1258,
          0.0607,
          0.0564,
          0.0564,
          0.1041,
          0.0759,
          0.0607,
          0.0868,
          0.141,
          0.0542,
          0.0542,
          0.0542,
          0.1345,
          0.0803,
          0.0521,
          0.1258,
          0.0998,
          0.0868,
          0.0607,
          0.0716,
          0.0694,
          0.0694,
          0.0911,
          0.0672,
          0.0868,
          0.0542,
          0.0521,
          0.0933,
          0.0716,
          0.0716,
          0.0716,
          0.0716,
          0.0607,
          0.0694,
          0.0889,
          0.0976,
          0.0976,
          0.0846,
          0.0542,
          0.1171,
          0.0629,
          0.0716,
          0.0694,
          0.0694,
          0.0694,
          0.0868,
          0.0868,
          0.0672,
          0.0976,
          0.1041,
          0.0716,
          0.0629,
          0.0542,
          0.0694,
          0.0846,
          0.0911,
          0.0824,
          0.0868,
          0.0868,
          0.0716,
          0.0716,
          0.0564,
          0.0694,
          0.0607,
          0.0586,
          0.0781,
          0.0846,
          0.0889,
          0.0694,
          0.0629,
          0.0564,
          0.0868,
          0.0868,
          0.0716,
          0.0521,
          0.0629,
          0.0629,
          0.0629,
          0.0846,
          0.0607,
          0.0716,
          0.0564,
          0.0607,
          0.0694,
          0.0521,
          0.0542,
          0.0586,
          0.0694,
          0.0716,
          0.0586,
          0.0781,
          0.0564,
          0.0629,
          0.0542,
          0.0694,
          0.0716,
          0.0716,
          0.0542,
          0.0694,
          0.0521,
          0.0889,
          0.0716,
          0.0716,
          0.0716,
          0.0521,
          0.0716,
          0.0868,
          0.0694,
          0.0868,
          0.0521,
          0.0542,
          0.0607,
          0.0716,
          0.0564,
          0.0564,
          0.0564,
          0.0564,
          0.0781,
          0.0629,
          0.0542,
          0.0564,
          0.0564,
          0.0629,
          0.0521
         ],
         "y": [
          1,
          0.975,
          0.975,
          0.9697,
          0.9697,
          0.9615,
          0.96,
          0.96,
          0.9524,
          0.9459,
          0.9375,
          0.931,
          0.9259,
          0.9259,
          0.9259,
          0.9231,
          0.9189,
          0.9063,
          0.9032,
          0.8966,
          0.8966,
          0.8889,
          0.875,
          0.875,
          0.8696,
          0.8667,
          0.8621,
          0.8621,
          0.8621,
          0.8611,
          0.8605,
          0.8571,
          0.8529,
          0.8519,
          0.8511,
          0.8485,
          0.8462,
          0.8421,
          0.8421,
          0.84,
          0.8378,
          0.8333,
          0.8333,
          0.8276,
          0.8269,
          0.825,
          0.825,
          0.825,
          0.825,
          0.8235,
          0.8205,
          0.82,
          0.8182,
          0.8182,
          0.8125,
          0.8065,
          0.806,
          0.8056,
          0.8049,
          0.8,
          0.8,
          0.8,
          0.8,
          0.8,
          0.7949,
          0.7895,
          0.7869,
          0.7857,
          0.7838,
          0.7812,
          0.7805,
          0.78,
          0.7778,
          0.7755,
          0.7692,
          0.7692,
          0.7674,
          0.7674,
          0.7647,
          0.7619,
          0.7568,
          0.75,
          0.75,
          0.75,
          0.7455,
          0.7442,
          0.7436,
          0.7429,
          0.7407,
          0.7407,
          0.7333,
          0.7273,
          0.725,
          0.725,
          0.725,
          0.7222,
          0.7179,
          0.7174,
          0.7027,
          0.7,
          0.6957,
          0.6857,
          0.6757,
          0.675,
          0.6667,
          0.66,
          0.6585,
          0.6545,
          0.65,
          0.6444,
          0.641,
          0.64,
          0.6346,
          0.6346,
          0.625,
          0.6154,
          0.6154,
          0.6119,
          0.6111,
          0.6111,
          0.6111,
          0.6,
          0.6,
          0.597,
          0.5926,
          0.5882,
          0.5854,
          0.5814,
          0.5714,
          0.569,
          0.5532,
          0.5417,
          0.5417,
          0.5417,
          0.5294,
          0.5273,
          0.5208,
          0.52,
          0.52,
          0.5,
          0.5
         ],
         "z": [
          1.4823,
          8.3236,
          8.9895,
          8.2783,
          8.9406,
          1.4253,
          8.1956,
          1.423,
          8.1305,
          1.4022,
          1.3897,
          1.3801,
          1.3725,
          1.3725,
          14.719,
          1.3683,
          1.3621,
          1.3433,
          1.3389,
          1.329,
          1.329,
          8.1956,
          1.297,
          1.297,
          8.0174,
          1.2847,
          10.7409,
          10.1901,
          14.719,
          1.2764,
          1.2755,
          1.2706,
          1.2643,
          1.2627,
          1.2615,
          10.5717,
          1.2543,
          1.2483,
          1.2483,
          1.2451,
          9.9037,
          1.2353,
          1.2353,
          1.2267,
          1.2258,
          1.2229,
          1.2229,
          1.2229,
          1.2229,
          9.7345,
          1.2163,
          1.2155,
          1.2128,
          1.2128,
          7.2031,
          9.2944,
          1.1947,
          1.1941,
          1.1931,
          8.0174,
          8.781,
          7.0923,
          8.0174,
          7.0923,
          9.9037,
          1.1702,
          1.1664,
          6.9657,
          9.0331,
          1.1581,
          1.1569,
          8.9895,
          1.1529,
          1.1496,
          6.567,
          7.0923,
          7.0758,
          6.5517,
          8.8132,
          8.781,
          10.5717,
          5.1604,
          1.1117,
          7.2031,
          5.1292,
          7.1473,
          8.5699,
          9.2556,
          6.567,
          8.1305,
          5.0458,
          8.3818,
          8.5699,
          9.0331,
          1.0747,
          8.3236,
          9.7345,
          6.3599,
          9.2556,
          6.5857,
          8.0174,
          8.1055,
          10.7409,
          5.6577,
          7.1473,
          7.0758,
          4.4645,
          4.4374,
          8.8132,
          4.369,
          10.1901,
          8.9406,
          6.9657,
          6.3599,
          9.2944,
          7.0923,
          8.1055,
          5.1292,
          5.1222,
          4.143,
          6.5517,
          8.3818,
          5.1222,
          4.0474,
          8.2783,
          4.0474,
          4.4238,
          4.1879,
          6.5857,
          3.9148,
          5.3129,
          4.9942,
          4.0936,
          5.3129,
          4.4374,
          4.1909,
          4.2124,
          4.9942,
          3.9298,
          4.1909,
          4.61
         ]
        }
       ],
       "layout": {
        "coloraxis": {
         "colorbar": {
          "title": {
           "text": "antecedent support"
          }
         },
         "colorscale": [
          [
           0,
           "#0d0887"
          ],
          [
           0.1111111111111111,
           "#46039f"
          ],
          [
           0.2222222222222222,
           "#7201a8"
          ],
          [
           0.3333333333333333,
           "#9c179e"
          ],
          [
           0.4444444444444444,
           "#bd3786"
          ],
          [
           0.5555555555555556,
           "#d8576b"
          ],
          [
           0.6666666666666666,
           "#ed7953"
          ],
          [
           0.7777777777777778,
           "#fb9f3a"
          ],
          [
           0.8888888888888888,
           "#fdca26"
          ],
          [
           1,
           "#f0f921"
          ]
         ]
        },
        "height": 800,
        "legend": {
         "tracegroupgap": 0
        },
        "scene": {
         "domain": {
          "x": [
           0,
           1
          ],
          "y": [
           0,
           1
          ]
         },
         "xaxis": {
          "title": {
           "text": "support"
          }
         },
         "yaxis": {
          "title": {
           "text": "confidence"
          }
         },
         "zaxis": {
          "title": {
           "text": "lift"
          }
         }
        },
        "template": {
         "data": {
          "bar": [
           {
            "error_x": {
             "color": "#2a3f5f"
            },
            "error_y": {
             "color": "#2a3f5f"
            },
            "marker": {
             "line": {
              "color": "#E5ECF6",
              "width": 0.5
             },
             "pattern": {
              "fillmode": "overlay",
              "size": 10,
              "solidity": 0.2
             }
            },
            "type": "bar"
           }
          ],
          "barpolar": [
           {
            "marker": {
             "line": {
              "color": "#E5ECF6",
              "width": 0.5
             },
             "pattern": {
              "fillmode": "overlay",
              "size": 10,
              "solidity": 0.2
             }
            },
            "type": "barpolar"
           }
          ],
          "carpet": [
           {
            "aaxis": {
             "endlinecolor": "#2a3f5f",
             "gridcolor": "white",
             "linecolor": "white",
             "minorgridcolor": "white",
             "startlinecolor": "#2a3f5f"
            },
            "baxis": {
             "endlinecolor": "#2a3f5f",
             "gridcolor": "white",
             "linecolor": "white",
             "minorgridcolor": "white",
             "startlinecolor": "#2a3f5f"
            },
            "type": "carpet"
           }
          ],
          "choropleth": [
           {
            "colorbar": {
             "outlinewidth": 0,
             "ticks": ""
            },
            "type": "choropleth"
           }
          ],
          "contour": [
           {
            "colorbar": {
             "outlinewidth": 0,
             "ticks": ""
            },
            "colorscale": [
             [
              0,
              "#0d0887"
             ],
             [
              0.1111111111111111,
              "#46039f"
             ],
             [
              0.2222222222222222,
              "#7201a8"
             ],
             [
              0.3333333333333333,
              "#9c179e"
             ],
             [
              0.4444444444444444,
              "#bd3786"
             ],
             [
              0.5555555555555556,
              "#d8576b"
             ],
             [
              0.6666666666666666,
              "#ed7953"
             ],
             [
              0.7777777777777778,
              "#fb9f3a"
             ],
             [
              0.8888888888888888,
              "#fdca26"
             ],
             [
              1,
              "#f0f921"
             ]
            ],
            "type": "contour"
           }
          ],
          "contourcarpet": [
           {
            "colorbar": {
             "outlinewidth": 0,
             "ticks": ""
            },
            "type": "contourcarpet"
           }
          ],
          "heatmap": [
           {
            "colorbar": {
             "outlinewidth": 0,
             "ticks": ""
            },
            "colorscale": [
             [
              0,
              "#0d0887"
             ],
             [
              0.1111111111111111,
              "#46039f"
             ],
             [
              0.2222222222222222,
              "#7201a8"
             ],
             [
              0.3333333333333333,
              "#9c179e"
             ],
             [
              0.4444444444444444,
              "#bd3786"
             ],
             [
              0.5555555555555556,
              "#d8576b"
             ],
             [
              0.6666666666666666,
              "#ed7953"
             ],
             [
              0.7777777777777778,
              "#fb9f3a"
             ],
             [
              0.8888888888888888,
              "#fdca26"
             ],
             [
              1,
              "#f0f921"
             ]
            ],
            "type": "heatmap"
           }
          ],
          "heatmapgl": [
           {
            "colorbar": {
             "outlinewidth": 0,
             "ticks": ""
            },
            "colorscale": [
             [
              0,
              "#0d0887"
             ],
             [
              0.1111111111111111,
              "#46039f"
             ],
             [
              0.2222222222222222,
              "#7201a8"
             ],
             [
              0.3333333333333333,
              "#9c179e"
             ],
             [
              0.4444444444444444,
              "#bd3786"
             ],
             [
              0.5555555555555556,
              "#d8576b"
             ],
             [
              0.6666666666666666,
              "#ed7953"
             ],
             [
              0.7777777777777778,
              "#fb9f3a"
             ],
             [
              0.8888888888888888,
              "#fdca26"
             ],
             [
              1,
              "#f0f921"
             ]
            ],
            "type": "heatmapgl"
           }
          ],
          "histogram": [
           {
            "marker": {
             "pattern": {
              "fillmode": "overlay",
              "size": 10,
              "solidity": 0.2
             }
            },
            "type": "histogram"
           }
          ],
          "histogram2d": [
           {
            "colorbar": {
             "outlinewidth": 0,
             "ticks": ""
            },
            "colorscale": [
             [
              0,
              "#0d0887"
             ],
             [
              0.1111111111111111,
              "#46039f"
             ],
             [
              0.2222222222222222,
              "#7201a8"
             ],
             [
              0.3333333333333333,
              "#9c179e"
             ],
             [
              0.4444444444444444,
              "#bd3786"
             ],
             [
              0.5555555555555556,
              "#d8576b"
             ],
             [
              0.6666666666666666,
              "#ed7953"
             ],
             [
              0.7777777777777778,
              "#fb9f3a"
             ],
             [
              0.8888888888888888,
              "#fdca26"
             ],
             [
              1,
              "#f0f921"
             ]
            ],
            "type": "histogram2d"
           }
          ],
          "histogram2dcontour": [
           {
            "colorbar": {
             "outlinewidth": 0,
             "ticks": ""
            },
            "colorscale": [
             [
              0,
              "#0d0887"
             ],
             [
              0.1111111111111111,
              "#46039f"
             ],
             [
              0.2222222222222222,
              "#7201a8"
             ],
             [
              0.3333333333333333,
              "#9c179e"
             ],
             [
              0.4444444444444444,
              "#bd3786"
             ],
             [
              0.5555555555555556,
              "#d8576b"
             ],
             [
              0.6666666666666666,
              "#ed7953"
             ],
             [
              0.7777777777777778,
              "#fb9f3a"
             ],
             [
              0.8888888888888888,
              "#fdca26"
             ],
             [
              1,
              "#f0f921"
             ]
            ],
            "type": "histogram2dcontour"
           }
          ],
          "mesh3d": [
           {
            "colorbar": {
             "outlinewidth": 0,
             "ticks": ""
            },
            "type": "mesh3d"
           }
          ],
          "parcoords": [
           {
            "line": {
             "colorbar": {
              "outlinewidth": 0,
              "ticks": ""
             }
            },
            "type": "parcoords"
           }
          ],
          "pie": [
           {
            "automargin": true,
            "type": "pie"
           }
          ],
          "scatter": [
           {
            "marker": {
             "colorbar": {
              "outlinewidth": 0,
              "ticks": ""
             }
            },
            "type": "scatter"
           }
          ],
          "scatter3d": [
           {
            "line": {
             "colorbar": {
              "outlinewidth": 0,
              "ticks": ""
             }
            },
            "marker": {
             "colorbar": {
              "outlinewidth": 0,
              "ticks": ""
             }
            },
            "type": "scatter3d"
           }
          ],
          "scattercarpet": [
           {
            "marker": {
             "colorbar": {
              "outlinewidth": 0,
              "ticks": ""
             }
            },
            "type": "scattercarpet"
           }
          ],
          "scattergeo": [
           {
            "marker": {
             "colorbar": {
              "outlinewidth": 0,
              "ticks": ""
             }
            },
            "type": "scattergeo"
           }
          ],
          "scattergl": [
           {
            "marker": {
             "colorbar": {
              "outlinewidth": 0,
              "ticks": ""
             }
            },
            "type": "scattergl"
           }
          ],
          "scattermapbox": [
           {
            "marker": {
             "colorbar": {
              "outlinewidth": 0,
              "ticks": ""
             }
            },
            "type": "scattermapbox"
           }
          ],
          "scatterpolar": [
           {
            "marker": {
             "colorbar": {
              "outlinewidth": 0,
              "ticks": ""
             }
            },
            "type": "scatterpolar"
           }
          ],
          "scatterpolargl": [
           {
            "marker": {
             "colorbar": {
              "outlinewidth": 0,
              "ticks": ""
             }
            },
            "type": "scatterpolargl"
           }
          ],
          "scatterternary": [
           {
            "marker": {
             "colorbar": {
              "outlinewidth": 0,
              "ticks": ""
             }
            },
            "type": "scatterternary"
           }
          ],
          "surface": [
           {
            "colorbar": {
             "outlinewidth": 0,
             "ticks": ""
            },
            "colorscale": [
             [
              0,
              "#0d0887"
             ],
             [
              0.1111111111111111,
              "#46039f"
             ],
             [
              0.2222222222222222,
              "#7201a8"
             ],
             [
              0.3333333333333333,
              "#9c179e"
             ],
             [
              0.4444444444444444,
              "#bd3786"
             ],
             [
              0.5555555555555556,
              "#d8576b"
             ],
             [
              0.6666666666666666,
              "#ed7953"
             ],
             [
              0.7777777777777778,
              "#fb9f3a"
             ],
             [
              0.8888888888888888,
              "#fdca26"
             ],
             [
              1,
              "#f0f921"
             ]
            ],
            "type": "surface"
           }
          ],
          "table": [
           {
            "cells": {
             "fill": {
              "color": "#EBF0F8"
             },
             "line": {
              "color": "white"
             }
            },
            "header": {
             "fill": {
              "color": "#C8D4E3"
             },
             "line": {
              "color": "white"
             }
            },
            "type": "table"
           }
          ]
         },
         "layout": {
          "annotationdefaults": {
           "arrowcolor": "#2a3f5f",
           "arrowhead": 0,
           "arrowwidth": 1
          },
          "autotypenumbers": "strict",
          "coloraxis": {
           "colorbar": {
            "outlinewidth": 0,
            "ticks": ""
           }
          },
          "colorscale": {
           "diverging": [
            [
             0,
             "#8e0152"
            ],
            [
             0.1,
             "#c51b7d"
            ],
            [
             0.2,
             "#de77ae"
            ],
            [
             0.3,
             "#f1b6da"
            ],
            [
             0.4,
             "#fde0ef"
            ],
            [
             0.5,
             "#f7f7f7"
            ],
            [
             0.6,
             "#e6f5d0"
            ],
            [
             0.7,
             "#b8e186"
            ],
            [
             0.8,
             "#7fbc41"
            ],
            [
             0.9,
             "#4d9221"
            ],
            [
             1,
             "#276419"
            ]
           ],
           "sequential": [
            [
             0,
             "#0d0887"
            ],
            [
             0.1111111111111111,
             "#46039f"
            ],
            [
             0.2222222222222222,
             "#7201a8"
            ],
            [
             0.3333333333333333,
             "#9c179e"
            ],
            [
             0.4444444444444444,
             "#bd3786"
            ],
            [
             0.5555555555555556,
             "#d8576b"
            ],
            [
             0.6666666666666666,
             "#ed7953"
            ],
            [
             0.7777777777777778,
             "#fb9f3a"
            ],
            [
             0.8888888888888888,
             "#fdca26"
            ],
            [
             1,
             "#f0f921"
            ]
           ],
           "sequentialminus": [
            [
             0,
             "#0d0887"
            ],
            [
             0.1111111111111111,
             "#46039f"
            ],
            [
             0.2222222222222222,
             "#7201a8"
            ],
            [
             0.3333333333333333,
             "#9c179e"
            ],
            [
             0.4444444444444444,
             "#bd3786"
            ],
            [
             0.5555555555555556,
             "#d8576b"
            ],
            [
             0.6666666666666666,
             "#ed7953"
            ],
            [
             0.7777777777777778,
             "#fb9f3a"
            ],
            [
             0.8888888888888888,
             "#fdca26"
            ],
            [
             1,
             "#f0f921"
            ]
           ]
          },
          "colorway": [
           "#636efa",
           "#EF553B",
           "#00cc96",
           "#ab63fa",
           "#FFA15A",
           "#19d3f3",
           "#FF6692",
           "#B6E880",
           "#FF97FF",
           "#FECB52"
          ],
          "font": {
           "color": "#2a3f5f"
          },
          "geo": {
           "bgcolor": "white",
           "lakecolor": "white",
           "landcolor": "#E5ECF6",
           "showlakes": true,
           "showland": true,
           "subunitcolor": "white"
          },
          "hoverlabel": {
           "align": "left"
          },
          "hovermode": "closest",
          "mapbox": {
           "style": "light"
          },
          "paper_bgcolor": "white",
          "plot_bgcolor": "#E5ECF6",
          "polar": {
           "angularaxis": {
            "gridcolor": "white",
            "linecolor": "white",
            "ticks": ""
           },
           "bgcolor": "#E5ECF6",
           "radialaxis": {
            "gridcolor": "white",
            "linecolor": "white",
            "ticks": ""
           }
          },
          "scene": {
           "xaxis": {
            "backgroundcolor": "#E5ECF6",
            "gridcolor": "white",
            "gridwidth": 2,
            "linecolor": "white",
            "showbackground": true,
            "ticks": "",
            "zerolinecolor": "white"
           },
           "yaxis": {
            "backgroundcolor": "#E5ECF6",
            "gridcolor": "white",
            "gridwidth": 2,
            "linecolor": "white",
            "showbackground": true,
            "ticks": "",
            "zerolinecolor": "white"
           },
           "zaxis": {
            "backgroundcolor": "#E5ECF6",
            "gridcolor": "white",
            "gridwidth": 2,
            "linecolor": "white",
            "showbackground": true,
            "ticks": "",
            "zerolinecolor": "white"
           }
          },
          "shapedefaults": {
           "line": {
            "color": "#2a3f5f"
           }
          },
          "ternary": {
           "aaxis": {
            "gridcolor": "white",
            "linecolor": "white",
            "ticks": ""
           },
           "baxis": {
            "gridcolor": "white",
            "linecolor": "white",
            "ticks": ""
           },
           "bgcolor": "#E5ECF6",
           "caxis": {
            "gridcolor": "white",
            "linecolor": "white",
            "ticks": ""
           }
          },
          "title": {
           "x": 0.05
          },
          "xaxis": {
           "automargin": true,
           "gridcolor": "white",
           "linecolor": "white",
           "ticks": "",
           "title": {
            "standoff": 15
           },
           "zerolinecolor": "white",
           "zerolinewidth": 2
          },
          "yaxis": {
           "automargin": true,
           "gridcolor": "white",
           "linecolor": "white",
           "ticks": "",
           "title": {
            "standoff": 15
           },
           "zerolinecolor": "white",
           "zerolinewidth": 2
          }
         }
        },
        "title": {
         "text": "3d Plot for Rule Mining"
        },
        "width": 900
       }
      },
      "text/html": [
       "<div>                            <div id=\"cb28af65-5f23-4a25-92ff-d9c580d95dea\" class=\"plotly-graph-div\" style=\"height:800px; width:900px;\"></div>            <script type=\"text/javascript\">                require([\"plotly\"], function(Plotly) {                    window.PLOTLYENV=window.PLOTLYENV || {};                                    if (document.getElementById(\"cb28af65-5f23-4a25-92ff-d9c580d95dea\")) {                    Plotly.newPlot(                        \"cb28af65-5f23-4a25-92ff-d9c580d95dea\",                        [{\"customdata\":[[\"JUMBO BAG WOODLAND ANIMALS\",\"POSTAGE\"],[\"SET/20 RED RETROSPOT PAPER NAPKINS \",\"SET/6 RED SPOTTY PAPER CUPS\"],[\"SET/20 RED RETROSPOT PAPER NAPKINS \",\"SET/6 RED SPOTTY PAPER PLATES\"],[\"SET/20 RED RETROSPOT PAPER NAPKINS \",\"SET/6 RED SPOTTY PAPER CUPS\"],[\"SET/20 RED RETROSPOT PAPER NAPKINS \",\"SET/6 RED SPOTTY PAPER PLATES\"],[\"SET OF 9 BLACK SKULL BALLOONS\",\"POSTAGE\"],[\"SET/6 RED SPOTTY PAPER PLATES\",\"SET/6 RED SPOTTY PAPER CUPS\"],[\"PACK OF 6 SKULL PAPER CUPS\",\"POSTAGE\"],[\"POSTAGE\",\"SET/6 RED SPOTTY PAPER CUPS\"],[\"TEA PARTY BIRTHDAY CARD\",\"POSTAGE\"],[\"STRAWBERRY LUNCH BOX WITH CUTLERY\",\"POSTAGE\"],[\"RED RETROSPOT PICNIC BAG\",\"POSTAGE\"],[\"SET OF 2 TEA TOWELS APPLE AND PEARS\",\"POSTAGE\"],[\"ASSORTED COLOUR MINI CASES\",\"POSTAGE\"],[\"CHILDRENS CUTLERY SPACEBOY \",\"CHILDRENS CUTLERY DOLLY GIRL \"],[\"LUNCH BAG RED RETROSPOT\",\"POSTAGE\"],[\"ALARM CLOCK BAKELIKE RED \",\"POSTAGE\"],[\"ROUND SNACK BOXES SET OF4 WOODLAND \",\"POSTAGE\"],[\"ALARM CLOCK BAKELIKE GREEN\",\"POSTAGE\"],[\"WOODLAND CHARLOTTE BAG\",\"POSTAGE\"],[\"ALARM CLOCK BAKELIKE PINK\",\"POSTAGE\"],[\"SET/6 RED SPOTTY PAPER CUPS\",\"SET/6 RED SPOTTY PAPER PLATES\"],[\"ALARM CLOCK BAKELIKE PINK\",\"POSTAGE\"],[\"PAPER BUNTING RETROSPOT\",\"POSTAGE\"],[\"POSTAGE\",\"SET/6 RED SPOTTY PAPER PLATES\"],[\"RABBIT NIGHT LIGHT\",\"POSTAGE\"],[\"ALARM CLOCK BAKELIKE PINK\",\"ALARM CLOCK BAKELIKE RED \"],[\"ALARM CLOCK BAKELIKE PINK\",\"ALARM CLOCK BAKELIKE GREEN\"],[\"CHILDRENS CUTLERY DOLLY GIRL \",\"CHILDRENS CUTLERY SPACEBOY \"],[\"RED TOADSTOOL LED NIGHT LIGHT\",\"POSTAGE\"],[\"ROUND SNACK BOXES SET OF 4 FRUITS \",\"POSTAGE\"],[\"COFFEE MUG APPLES DESIGN\",\"POSTAGE\"],[\"PLASTERS IN TIN CIRCUS PARADE \",\"POSTAGE\"],[\"SET/6 RED SPOTTY PAPER CUPS\",\"POSTAGE\"],[\"LUNCH BAG WOODLAND\",\"POSTAGE\"],[\"POSTAGE\",\"ALARM CLOCK BAKELIKE RED \"],[\"ALARM CLOCK BAKELIKE GREEN\",\"POSTAGE\"],[\"RED RETROSPOT CHARLOTTE BAG\",\"POSTAGE\"],[\"JUMBO BAG RED RETROSPOT\",\"POSTAGE\"],[\"SET/6 RED SPOTTY PAPER PLATES\",\"POSTAGE\"],[\"ALARM CLOCK BAKELIKE RED \",\"ALARM CLOCK BAKELIKE GREEN\"],[\"SET/6 RED SPOTTY PAPER CUPS\",\"POSTAGE\"],[\"SET/10 RED POLKADOT PARTY CANDLES\",\"POSTAGE\"],[\"ALARM CLOCK BAKELIKE PINK\",\"POSTAGE\"],[\"SET/20 RED RETROSPOT PAPER NAPKINS \",\"POSTAGE\"],[\"PLASTERS IN TIN WOODLAND ANIMALS\",\"POSTAGE\"],[\"PACK OF 72 RETROSPOT CAKE CASES\",\"POSTAGE\"],[\"SET/20 RED RETROSPOT PAPER NAPKINS \",\"POSTAGE\"],[\"SET/20 RED RETROSPOT PAPER NAPKINS \",\"POSTAGE\"],[\"POSTAGE\",\"ALARM CLOCK BAKELIKE GREEN\"],[\"SET/20 RED RETROSPOT PAPER NAPKINS \",\"POSTAGE\"],[\"LUNCH BAG APPLE DESIGN\",\"POSTAGE\"],[\"RED RETROSPOT MINI CASES\",\"POSTAGE\"],[\"PLASTERS IN TIN SPACEBOY\",\"POSTAGE\"],[\"SET/6 RED SPOTTY PAPER CUPS\",\"SET/20 RED RETROSPOT PAPER NAPKINS \"],[\"ALARM CLOCK BAKELIKE GREEN\",\"ALARM CLOCK BAKELIKE PINK\"],[\"PLASTERS IN TIN WOODLAND ANIMALS\",\"POSTAGE\"],[\"PLASTERS IN TIN CIRCUS PARADE \",\"POSTAGE\"],[\"PLASTERS IN TIN WOODLAND ANIMALS\",\"POSTAGE\"],[\"SET/20 RED RETROSPOT PAPER NAPKINS \",\"POSTAGE\"],[\"SET/20 RED RETROSPOT PAPER NAPKINS \",\"POSTAGE\"],[\"POSTAGE\",\"SET/20 RED RETROSPOT PAPER NAPKINS \"],[\"SET/6 RED SPOTTY PAPER PLATES\",\"POSTAGE\"],[\"SET/6 RED SPOTTY PAPER PLATES\",\"SET/20 RED RETROSPOT PAPER NAPKINS \"],[\"ALARM CLOCK BAKELIKE GREEN\",\"ALARM CLOCK BAKELIKE RED \"],[\"LUNCH BOX WITH CUTLERY RETROSPOT \",\"POSTAGE\"],[\"LUNCH BAG RED RETROSPOT\",\"POSTAGE\"],[\"POSTAGE\",\"SET/20 RED RETROSPOT PAPER NAPKINS \"],[\"ALARM CLOCK BAKELIKE RED \",\"ALARM CLOCK BAKELIKE PINK\"],[\"PLASTERS IN TIN STRONGMAN\",\"POSTAGE\"],[\"MINI PAINT SET VINTAGE \",\"POSTAGE\"],[\"SET/6 RED SPOTTY PAPER PLATES\",\"SET/20 RED RETROSPOT PAPER NAPKINS \"],[\"REGENCY CAKESTAND 3 TIER\",\"POSTAGE\"],[\"SPACEBOY LUNCH BOX \",\"POSTAGE\"],[\"SET/20 RED RETROSPOT PAPER NAPKINS \",\"SET/6 RED SPOTTY PAPER CUPS\"],[\"SET/20 RED RETROSPOT PAPER NAPKINS \",\"SET/6 RED SPOTTY PAPER PLATES\"],[\"SET/20 RED RETROSPOT PAPER NAPKINS \",\"SET/6 RED SPOTTY PAPER PLATES\"],[\"SET/20 RED RETROSPOT PAPER NAPKINS \",\"SET/6 RED SPOTTY PAPER CUPS\"],[\"POSTAGE\",\"ALARM CLOCK BAKELIKE PINK\"],[\"POSTAGE\",\"SET/20 RED RETROSPOT PAPER NAPKINS \"],[\"ALARM CLOCK BAKELIKE RED \",\"POSTAGE\"],[\"PLASTERS IN TIN CIRCUS PARADE \",\"PLASTERS IN TIN WOODLAND ANIMALS\"],[\"LUNCH BAG SPACEBOY DESIGN \",\"POSTAGE\"],[\"SET/20 RED RETROSPOT PAPER NAPKINS \",\"SET/6 RED SPOTTY PAPER CUPS\"],[\"PLASTERS IN TIN SPACEBOY\",\"PLASTERS IN TIN WOODLAND ANIMALS\"],[\"SET/20 RED RETROSPOT PAPER NAPKINS \",\"SET/6 RED SPOTTY PAPER CUPS\"],[\"ALARM CLOCK BAKELIKE GREEN\",\"ALARM CLOCK BAKELIKE PINK\"],[\"ALARM CLOCK BAKELIKE PINK\",\"ALARM CLOCK BAKELIKE RED \"],[\"SET/6 RED SPOTTY PAPER CUPS\",\"SET/20 RED RETROSPOT PAPER NAPKINS \"],[\"SET/6 RED SPOTTY PAPER CUPS\",\"POSTAGE\"],[\"PLASTERS IN TIN SPACEBOY\",\"PLASTERS IN TIN WOODLAND ANIMALS\"],[\"POSTAGE\",\"ALARM CLOCK BAKELIKE PINK\"],[\"ALARM CLOCK BAKELIKE PINK\",\"ALARM CLOCK BAKELIKE GREEN\"],[\"ALARM CLOCK BAKELIKE PINK\",\"ALARM CLOCK BAKELIKE RED \"],[\"DOLLY GIRL LUNCH BOX\",\"POSTAGE\"],[\"SET/6 RED SPOTTY PAPER CUPS\",\"SET/20 RED RETROSPOT PAPER NAPKINS \"],[\"ALARM CLOCK BAKELIKE GREEN\",\"POSTAGE\"],[\"POSTAGE\",\"SET/20 RED RETROSPOT PAPER NAPKINS \"],[\"ALARM CLOCK BAKELIKE RED \",\"ALARM CLOCK BAKELIKE PINK\"],[\"DOLLY GIRL LUNCH BOX\",\"SPACEBOY LUNCH BOX \"],[\"POSTAGE\",\"SET/20 RED RETROSPOT PAPER NAPKINS \"],[\"ALARM CLOCK BAKELIKE PINK\",\"ALARM CLOCK BAKELIKE GREEN\"],[\"ALARM CLOCK BAKELIKE RED \",\"ALARM CLOCK BAKELIKE PINK\"],[\"PLASTERS IN TIN WOODLAND ANIMALS\",\"PLASTERS IN TIN SPACEBOY\"],[\"SET/6 RED SPOTTY PAPER CUPS\",\"SET/20 RED RETROSPOT PAPER NAPKINS \"],[\"SET/6 RED SPOTTY PAPER PLATES\",\"SET/20 RED RETROSPOT PAPER NAPKINS \"],[\"PLASTERS IN TIN WOODLAND ANIMALS\",\"PLASTERS IN TIN CIRCUS PARADE \"],[\"PLASTERS IN TIN SPACEBOY\",\"PLASTERS IN TIN CIRCUS PARADE \"],[\"ALARM CLOCK BAKELIKE PINK\",\"POSTAGE\"],[\"PLASTERS IN TIN SPACEBOY\",\"PLASTERS IN TIN CIRCUS PARADE \"],[\"ALARM CLOCK BAKELIKE GREEN\",\"ALARM CLOCK BAKELIKE PINK\"],[\"SET/6 RED SPOTTY PAPER PLATES\",\"SET/20 RED RETROSPOT PAPER NAPKINS \"],[\"SET/20 RED RETROSPOT PAPER NAPKINS \",\"POSTAGE\"],[\"SET/20 RED RETROSPOT PAPER NAPKINS \",\"POSTAGE\"],[\"ALARM CLOCK BAKELIKE PINK\",\"ALARM CLOCK BAKELIKE GREEN\"],[\"SET/20 RED RETROSPOT PAPER NAPKINS \",\"POSTAGE\"],[\"ALARM CLOCK BAKELIKE GREEN\",\"ALARM CLOCK BAKELIKE PINK\"],[\"PLASTERS IN TIN WOODLAND ANIMALS\",\"PLASTERS IN TIN SPACEBOY\"],[\"PLASTERS IN TIN WOODLAND ANIMALS\",\"PLASTERS IN TIN SPACEBOY\"],[\"PLASTERS IN TIN WOODLAND ANIMALS\",\"PLASTERS IN TIN CIRCUS PARADE \"],[\"SET/6 RED SPOTTY PAPER CUPS\",\"SET/20 RED RETROSPOT PAPER NAPKINS \"],[\"ALARM CLOCK BAKELIKE PINK\",\"POSTAGE\"],[\"PLASTERS IN TIN SPACEBOY\",\"PLASTERS IN TIN WOODLAND ANIMALS\"],[\"PLASTERS IN TIN WOODLAND ANIMALS\",\"PLASTERS IN TIN CIRCUS PARADE \"],[\"SET/6 RED SPOTTY PAPER CUPS\",\"SET/20 RED RETROSPOT PAPER NAPKINS \"],[\"PLASTERS IN TIN CIRCUS PARADE \",\"PLASTERS IN TIN WOODLAND ANIMALS\"],[\"POSTAGE\",\"LUNCH BAG RED RETROSPOT\"],[\"ROUND SNACK BOXES SET OF 4 FRUITS \",\"ROUND SNACK BOXES SET OF4 WOODLAND \"],[\"SPACEBOY LUNCH BOX \",\"DOLLY GIRL LUNCH BOX\"],[\"PLASTERS IN TIN CIRCUS PARADE \",\"PLASTERS IN TIN WOODLAND ANIMALS\"],[\"LUNCH BAG WOODLAND\",\"LUNCH BAG SPACEBOY DESIGN \"],[\"LUNCH BAG SPACEBOY DESIGN \",\"LUNCH BAG APPLE DESIGN\"],[\"LUNCH BAG SPACEBOY DESIGN \",\"LUNCH BAG RED RETROSPOT\"],[\"LUNCH BAG SPACEBOY DESIGN \",\"LUNCH BAG WOODLAND\"],[\"PLASTERS IN TIN CIRCUS PARADE \",\"PLASTERS IN TIN SPACEBOY\"],[\"PLASTERS IN TIN SPACEBOY\",\"PLASTERS IN TIN CIRCUS PARADE \"],[\"STRAWBERRY LUNCH BOX WITH CUTLERY\",\"LUNCH BOX WITH CUTLERY RETROSPOT \"],[\"LUNCH BAG APPLE DESIGN\",\"LUNCH BAG SPACEBOY DESIGN \"],[\"LUNCH BAG APPLE DESIGN\",\"LUNCH BAG RED RETROSPOT\"],[\"PLASTERS IN TIN CIRCUS PARADE \",\"PLASTERS IN TIN SPACEBOY\"],[\"LUNCH BAG RED RETROSPOT\",\"LUNCH BAG APPLE DESIGN\"]],\"hovertemplate\":\"support=%{x}<br>confidence=%{y}<br>lift=%{z}<br>antecedents=%{customdata[0]}<br>consequents=%{customdata[1]}<br>antecedent support=%{marker.color}<extra></extra>\",\"legendgroup\":\"\",\"marker\":{\"color\":[0.0651,0.0868,0.0868,0.0716,0.0716,0.0564,0.1085,0.0542,0.0911,0.0803,0.1041,0.0629,0.0586,0.0586,0.0586,0.0564,0.0803,0.1388,0.0672,0.0629,0.0629,0.1171,0.0868,0.0694,0.0998,0.1627,0.0629,0.0629,0.0629,0.1562,0.0933,0.0607,0.1475,0.1171,0.102,0.0716,0.0846,0.0824,0.0824,0.1085,0.0803,0.1041,0.0651,0.0629,0.1128,0.0868,0.0868,0.0868,0.0868,0.0738,0.0846,0.1085,0.1193,0.1193,0.1041,0.0672,0.1453,0.0781,0.0889,0.0868,0.0868,0.0868,0.1085,0.1085,0.0846,0.1236,0.1323,0.0911,0.0803,0.0694,0.0889,0.1085,0.1171,0.1063,0.1128,0.1128,0.0933,0.0933,0.0738,0.0911,0.0803,0.0781,0.1041,0.1128,0.1193,0.0933,0.0846,0.0759,0.1171,0.1171,0.0976,0.0716,0.0868,0.0868,0.0868,0.1171,0.0846,0.0998,0.0803,0.0868,0.0998,0.0759,0.0803,0.0868,0.1041,0.1085,0.0889,0.1193,0.0868,0.0976,0.0846,0.1085,0.1128,0.1128,0.0868,0.1128,0.0846,0.1453,0.1171,0.1171,0.1171,0.0868,0.1193,0.1453,0.1171,0.1475,0.0889,0.0933,0.1063,0.1258,0.102,0.1041,0.1041,0.1041,0.1475,0.1193,0.1041,0.1085,0.1085,0.1258,0.1041],\"coloraxis\":\"coloraxis\",\"opacity\":0.7,\"symbol\":\"circle\"},\"mode\":\"markers\",\"name\":\"\",\"scene\":\"scene\",\"showlegend\":false,\"x\":[0.0651,0.0846,0.0846,0.0694,0.0694,0.0542,0.1041,0.0521,0.0868,0.0759,0.0976,0.0586,0.0542,0.0542,0.0542,0.0521,0.0738,0.1258,0.0607,0.0564,0.0564,0.1041,0.0759,0.0607,0.0868,0.141,0.0542,0.0542,0.0542,0.1345,0.0803,0.0521,0.1258,0.0998,0.0868,0.0607,0.0716,0.0694,0.0694,0.0911,0.0672,0.0868,0.0542,0.0521,0.0933,0.0716,0.0716,0.0716,0.0716,0.0607,0.0694,0.0889,0.0976,0.0976,0.0846,0.0542,0.1171,0.0629,0.0716,0.0694,0.0694,0.0694,0.0868,0.0868,0.0672,0.0976,0.1041,0.0716,0.0629,0.0542,0.0694,0.0846,0.0911,0.0824,0.0868,0.0868,0.0716,0.0716,0.0564,0.0694,0.0607,0.0586,0.0781,0.0846,0.0889,0.0694,0.0629,0.0564,0.0868,0.0868,0.0716,0.0521,0.0629,0.0629,0.0629,0.0846,0.0607,0.0716,0.0564,0.0607,0.0694,0.0521,0.0542,0.0586,0.0694,0.0716,0.0586,0.0781,0.0564,0.0629,0.0542,0.0694,0.0716,0.0716,0.0542,0.0694,0.0521,0.0889,0.0716,0.0716,0.0716,0.0521,0.0716,0.0868,0.0694,0.0868,0.0521,0.0542,0.0607,0.0716,0.0564,0.0564,0.0564,0.0564,0.0781,0.0629,0.0542,0.0564,0.0564,0.0629,0.0521],\"y\":[1.0,0.975,0.975,0.9697,0.9697,0.9615,0.96,0.96,0.9524,0.9459,0.9375,0.931,0.9259,0.9259,0.9259,0.9231,0.9189,0.9063,0.9032,0.8966,0.8966,0.8889,0.875,0.875,0.8696,0.8667,0.8621,0.8621,0.8621,0.8611,0.8605,0.8571,0.8529,0.8519,0.8511,0.8485,0.8462,0.8421,0.8421,0.84,0.8378,0.8333,0.8333,0.8276,0.8269,0.825,0.825,0.825,0.825,0.8235,0.8205,0.82,0.8182,0.8182,0.8125,0.8065,0.806,0.8056,0.8049,0.8,0.8,0.8,0.8,0.8,0.7949,0.7895,0.7869,0.7857,0.7838,0.7812,0.7805,0.78,0.7778,0.7755,0.7692,0.7692,0.7674,0.7674,0.7647,0.7619,0.7568,0.75,0.75,0.75,0.7455,0.7442,0.7436,0.7429,0.7407,0.7407,0.7333,0.7273,0.725,0.725,0.725,0.7222,0.7179,0.7174,0.7027,0.7,0.6957,0.6857,0.6757,0.675,0.6667,0.66,0.6585,0.6545,0.65,0.6444,0.641,0.64,0.6346,0.6346,0.625,0.6154,0.6154,0.6119,0.6111,0.6111,0.6111,0.6,0.6,0.597,0.5926,0.5882,0.5854,0.5814,0.5714,0.569,0.5532,0.5417,0.5417,0.5417,0.5294,0.5273,0.5208,0.52,0.52,0.5,0.5],\"z\":[1.4823,8.3236,8.9895,8.2783,8.9406,1.4253,8.1956,1.423,8.1305,1.4022,1.3897,1.3801,1.3725,1.3725,14.719,1.3683,1.3621,1.3433,1.3389,1.329,1.329,8.1956,1.297,1.297,8.0174,1.2847,10.7409,10.1901,14.719,1.2764,1.2755,1.2706,1.2643,1.2627,1.2615,10.5717,1.2543,1.2483,1.2483,1.2451,9.9037,1.2353,1.2353,1.2267,1.2258,1.2229,1.2229,1.2229,1.2229,9.7345,1.2163,1.2155,1.2128,1.2128,7.2031,9.2944,1.1947,1.1941,1.1931,8.0174,8.781,7.0923,8.0174,7.0923,9.9037,1.1702,1.1664,6.9657,9.0331,1.1581,1.1569,8.9895,1.1529,1.1496,6.567,7.0923,7.0758,6.5517,8.8132,8.781,10.5717,5.1604,1.1117,7.2031,5.1292,7.1473,8.5699,9.2556,6.567,8.1305,5.0458,8.3818,8.5699,9.0331,1.0747,8.3236,9.7345,6.3599,9.2556,6.5857,8.0174,8.1055,10.7409,5.6577,7.1473,7.0758,4.4645,4.4374,8.8132,4.369,10.1901,8.9406,6.9657,6.3599,9.2944,7.0923,8.1055,5.1292,5.1222,4.143,6.5517,8.3818,5.1222,4.0474,8.2783,4.0474,4.4238,4.1879,6.5857,3.9148,5.3129,4.9942,4.0936,5.3129,4.4374,4.1909,4.2124,4.9942,3.9298,4.1909,4.61],\"type\":\"scatter3d\"}],                        {\"template\":{\"data\":{\"bar\":[{\"error_x\":{\"color\":\"#2a3f5f\"},\"error_y\":{\"color\":\"#2a3f5f\"},\"marker\":{\"line\":{\"color\":\"#E5ECF6\",\"width\":0.5},\"pattern\":{\"fillmode\":\"overlay\",\"size\":10,\"solidity\":0.2}},\"type\":\"bar\"}],\"barpolar\":[{\"marker\":{\"line\":{\"color\":\"#E5ECF6\",\"width\":0.5},\"pattern\":{\"fillmode\":\"overlay\",\"size\":10,\"solidity\":0.2}},\"type\":\"barpolar\"}],\"carpet\":[{\"aaxis\":{\"endlinecolor\":\"#2a3f5f\",\"gridcolor\":\"white\",\"linecolor\":\"white\",\"minorgridcolor\":\"white\",\"startlinecolor\":\"#2a3f5f\"},\"baxis\":{\"endlinecolor\":\"#2a3f5f\",\"gridcolor\":\"white\",\"linecolor\":\"white\",\"minorgridcolor\":\"white\",\"startlinecolor\":\"#2a3f5f\"},\"type\":\"carpet\"}],\"choropleth\":[{\"colorbar\":{\"outlinewidth\":0,\"ticks\":\"\"},\"type\":\"choropleth\"}],\"contour\":[{\"colorbar\":{\"outlinewidth\":0,\"ticks\":\"\"},\"colorscale\":[[0.0,\"#0d0887\"],[0.1111111111111111,\"#46039f\"],[0.2222222222222222,\"#7201a8\"],[0.3333333333333333,\"#9c179e\"],[0.4444444444444444,\"#bd3786\"],[0.5555555555555556,\"#d8576b\"],[0.6666666666666666,\"#ed7953\"],[0.7777777777777778,\"#fb9f3a\"],[0.8888888888888888,\"#fdca26\"],[1.0,\"#f0f921\"]],\"type\":\"contour\"}],\"contourcarpet\":[{\"colorbar\":{\"outlinewidth\":0,\"ticks\":\"\"},\"type\":\"contourcarpet\"}],\"heatmap\":[{\"colorbar\":{\"outlinewidth\":0,\"ticks\":\"\"},\"colorscale\":[[0.0,\"#0d0887\"],[0.1111111111111111,\"#46039f\"],[0.2222222222222222,\"#7201a8\"],[0.3333333333333333,\"#9c179e\"],[0.4444444444444444,\"#bd3786\"],[0.5555555555555556,\"#d8576b\"],[0.6666666666666666,\"#ed7953\"],[0.7777777777777778,\"#fb9f3a\"],[0.8888888888888888,\"#fdca26\"],[1.0,\"#f0f921\"]],\"type\":\"heatmap\"}],\"heatmapgl\":[{\"colorbar\":{\"outlinewidth\":0,\"ticks\":\"\"},\"colorscale\":[[0.0,\"#0d0887\"],[0.1111111111111111,\"#46039f\"],[0.2222222222222222,\"#7201a8\"],[0.3333333333333333,\"#9c179e\"],[0.4444444444444444,\"#bd3786\"],[0.5555555555555556,\"#d8576b\"],[0.6666666666666666,\"#ed7953\"],[0.7777777777777778,\"#fb9f3a\"],[0.8888888888888888,\"#fdca26\"],[1.0,\"#f0f921\"]],\"type\":\"heatmapgl\"}],\"histogram\":[{\"marker\":{\"pattern\":{\"fillmode\":\"overlay\",\"size\":10,\"solidity\":0.2}},\"type\":\"histogram\"}],\"histogram2d\":[{\"colorbar\":{\"outlinewidth\":0,\"ticks\":\"\"},\"colorscale\":[[0.0,\"#0d0887\"],[0.1111111111111111,\"#46039f\"],[0.2222222222222222,\"#7201a8\"],[0.3333333333333333,\"#9c179e\"],[0.4444444444444444,\"#bd3786\"],[0.5555555555555556,\"#d8576b\"],[0.6666666666666666,\"#ed7953\"],[0.7777777777777778,\"#fb9f3a\"],[0.8888888888888888,\"#fdca26\"],[1.0,\"#f0f921\"]],\"type\":\"histogram2d\"}],\"histogram2dcontour\":[{\"colorbar\":{\"outlinewidth\":0,\"ticks\":\"\"},\"colorscale\":[[0.0,\"#0d0887\"],[0.1111111111111111,\"#46039f\"],[0.2222222222222222,\"#7201a8\"],[0.3333333333333333,\"#9c179e\"],[0.4444444444444444,\"#bd3786\"],[0.5555555555555556,\"#d8576b\"],[0.6666666666666666,\"#ed7953\"],[0.7777777777777778,\"#fb9f3a\"],[0.8888888888888888,\"#fdca26\"],[1.0,\"#f0f921\"]],\"type\":\"histogram2dcontour\"}],\"mesh3d\":[{\"colorbar\":{\"outlinewidth\":0,\"ticks\":\"\"},\"type\":\"mesh3d\"}],\"parcoords\":[{\"line\":{\"colorbar\":{\"outlinewidth\":0,\"ticks\":\"\"}},\"type\":\"parcoords\"}],\"pie\":[{\"automargin\":true,\"type\":\"pie\"}],\"scatter\":[{\"marker\":{\"colorbar\":{\"outlinewidth\":0,\"ticks\":\"\"}},\"type\":\"scatter\"}],\"scatter3d\":[{\"line\":{\"colorbar\":{\"outlinewidth\":0,\"ticks\":\"\"}},\"marker\":{\"colorbar\":{\"outlinewidth\":0,\"ticks\":\"\"}},\"type\":\"scatter3d\"}],\"scattercarpet\":[{\"marker\":{\"colorbar\":{\"outlinewidth\":0,\"ticks\":\"\"}},\"type\":\"scattercarpet\"}],\"scattergeo\":[{\"marker\":{\"colorbar\":{\"outlinewidth\":0,\"ticks\":\"\"}},\"type\":\"scattergeo\"}],\"scattergl\":[{\"marker\":{\"colorbar\":{\"outlinewidth\":0,\"ticks\":\"\"}},\"type\":\"scattergl\"}],\"scattermapbox\":[{\"marker\":{\"colorbar\":{\"outlinewidth\":0,\"ticks\":\"\"}},\"type\":\"scattermapbox\"}],\"scatterpolar\":[{\"marker\":{\"colorbar\":{\"outlinewidth\":0,\"ticks\":\"\"}},\"type\":\"scatterpolar\"}],\"scatterpolargl\":[{\"marker\":{\"colorbar\":{\"outlinewidth\":0,\"ticks\":\"\"}},\"type\":\"scatterpolargl\"}],\"scatterternary\":[{\"marker\":{\"colorbar\":{\"outlinewidth\":0,\"ticks\":\"\"}},\"type\":\"scatterternary\"}],\"surface\":[{\"colorbar\":{\"outlinewidth\":0,\"ticks\":\"\"},\"colorscale\":[[0.0,\"#0d0887\"],[0.1111111111111111,\"#46039f\"],[0.2222222222222222,\"#7201a8\"],[0.3333333333333333,\"#9c179e\"],[0.4444444444444444,\"#bd3786\"],[0.5555555555555556,\"#d8576b\"],[0.6666666666666666,\"#ed7953\"],[0.7777777777777778,\"#fb9f3a\"],[0.8888888888888888,\"#fdca26\"],[1.0,\"#f0f921\"]],\"type\":\"surface\"}],\"table\":[{\"cells\":{\"fill\":{\"color\":\"#EBF0F8\"},\"line\":{\"color\":\"white\"}},\"header\":{\"fill\":{\"color\":\"#C8D4E3\"},\"line\":{\"color\":\"white\"}},\"type\":\"table\"}]},\"layout\":{\"annotationdefaults\":{\"arrowcolor\":\"#2a3f5f\",\"arrowhead\":0,\"arrowwidth\":1},\"autotypenumbers\":\"strict\",\"coloraxis\":{\"colorbar\":{\"outlinewidth\":0,\"ticks\":\"\"}},\"colorscale\":{\"diverging\":[[0,\"#8e0152\"],[0.1,\"#c51b7d\"],[0.2,\"#de77ae\"],[0.3,\"#f1b6da\"],[0.4,\"#fde0ef\"],[0.5,\"#f7f7f7\"],[0.6,\"#e6f5d0\"],[0.7,\"#b8e186\"],[0.8,\"#7fbc41\"],[0.9,\"#4d9221\"],[1,\"#276419\"]],\"sequential\":[[0.0,\"#0d0887\"],[0.1111111111111111,\"#46039f\"],[0.2222222222222222,\"#7201a8\"],[0.3333333333333333,\"#9c179e\"],[0.4444444444444444,\"#bd3786\"],[0.5555555555555556,\"#d8576b\"],[0.6666666666666666,\"#ed7953\"],[0.7777777777777778,\"#fb9f3a\"],[0.8888888888888888,\"#fdca26\"],[1.0,\"#f0f921\"]],\"sequentialminus\":[[0.0,\"#0d0887\"],[0.1111111111111111,\"#46039f\"],[0.2222222222222222,\"#7201a8\"],[0.3333333333333333,\"#9c179e\"],[0.4444444444444444,\"#bd3786\"],[0.5555555555555556,\"#d8576b\"],[0.6666666666666666,\"#ed7953\"],[0.7777777777777778,\"#fb9f3a\"],[0.8888888888888888,\"#fdca26\"],[1.0,\"#f0f921\"]]},\"colorway\":[\"#636efa\",\"#EF553B\",\"#00cc96\",\"#ab63fa\",\"#FFA15A\",\"#19d3f3\",\"#FF6692\",\"#B6E880\",\"#FF97FF\",\"#FECB52\"],\"font\":{\"color\":\"#2a3f5f\"},\"geo\":{\"bgcolor\":\"white\",\"lakecolor\":\"white\",\"landcolor\":\"#E5ECF6\",\"showlakes\":true,\"showland\":true,\"subunitcolor\":\"white\"},\"hoverlabel\":{\"align\":\"left\"},\"hovermode\":\"closest\",\"mapbox\":{\"style\":\"light\"},\"paper_bgcolor\":\"white\",\"plot_bgcolor\":\"#E5ECF6\",\"polar\":{\"angularaxis\":{\"gridcolor\":\"white\",\"linecolor\":\"white\",\"ticks\":\"\"},\"bgcolor\":\"#E5ECF6\",\"radialaxis\":{\"gridcolor\":\"white\",\"linecolor\":\"white\",\"ticks\":\"\"}},\"scene\":{\"xaxis\":{\"backgroundcolor\":\"#E5ECF6\",\"gridcolor\":\"white\",\"gridwidth\":2,\"linecolor\":\"white\",\"showbackground\":true,\"ticks\":\"\",\"zerolinecolor\":\"white\"},\"yaxis\":{\"backgroundcolor\":\"#E5ECF6\",\"gridcolor\":\"white\",\"gridwidth\":2,\"linecolor\":\"white\",\"showbackground\":true,\"ticks\":\"\",\"zerolinecolor\":\"white\"},\"zaxis\":{\"backgroundcolor\":\"#E5ECF6\",\"gridcolor\":\"white\",\"gridwidth\":2,\"linecolor\":\"white\",\"showbackground\":true,\"ticks\":\"\",\"zerolinecolor\":\"white\"}},\"shapedefaults\":{\"line\":{\"color\":\"#2a3f5f\"}},\"ternary\":{\"aaxis\":{\"gridcolor\":\"white\",\"linecolor\":\"white\",\"ticks\":\"\"},\"baxis\":{\"gridcolor\":\"white\",\"linecolor\":\"white\",\"ticks\":\"\"},\"bgcolor\":\"#E5ECF6\",\"caxis\":{\"gridcolor\":\"white\",\"linecolor\":\"white\",\"ticks\":\"\"}},\"title\":{\"x\":0.05},\"xaxis\":{\"automargin\":true,\"gridcolor\":\"white\",\"linecolor\":\"white\",\"ticks\":\"\",\"title\":{\"standoff\":15},\"zerolinecolor\":\"white\",\"zerolinewidth\":2},\"yaxis\":{\"automargin\":true,\"gridcolor\":\"white\",\"linecolor\":\"white\",\"ticks\":\"\",\"title\":{\"standoff\":15},\"zerolinecolor\":\"white\",\"zerolinewidth\":2}}},\"scene\":{\"domain\":{\"x\":[0.0,1.0],\"y\":[0.0,1.0]},\"xaxis\":{\"title\":{\"text\":\"support\"}},\"yaxis\":{\"title\":{\"text\":\"confidence\"}},\"zaxis\":{\"title\":{\"text\":\"lift\"}}},\"coloraxis\":{\"colorbar\":{\"title\":{\"text\":\"antecedent support\"}},\"colorscale\":[[0.0,\"#0d0887\"],[0.1111111111111111,\"#46039f\"],[0.2222222222222222,\"#7201a8\"],[0.3333333333333333,\"#9c179e\"],[0.4444444444444444,\"#bd3786\"],[0.5555555555555556,\"#d8576b\"],[0.6666666666666666,\"#ed7953\"],[0.7777777777777778,\"#fb9f3a\"],[0.8888888888888888,\"#fdca26\"],[1.0,\"#f0f921\"]]},\"legend\":{\"tracegroupgap\":0},\"title\":{\"text\":\"3d Plot for Rule Mining\"},\"height\":800,\"width\":900},                        {\"responsive\": true}                    ).then(function(){\n",
       "                            \n",
       "var gd = document.getElementById('cb28af65-5f23-4a25-92ff-d9c580d95dea');\n",
       "var x = new MutationObserver(function (mutations, observer) {{\n",
       "        var display = window.getComputedStyle(gd).display;\n",
       "        if (!display || display === 'none') {{\n",
       "            console.log([gd, 'removed!']);\n",
       "            Plotly.purge(gd);\n",
       "            observer.disconnect();\n",
       "        }}\n",
       "}});\n",
       "\n",
       "// Listen for the removal of the full notebook cells\n",
       "var notebookContainer = gd.closest('#notebook-container');\n",
       "if (notebookContainer) {{\n",
       "    x.observe(notebookContainer, {childList: true});\n",
       "}}\n",
       "\n",
       "// Listen for the clearing of the current output cell\n",
       "var outputEl = gd.closest('.output');\n",
       "if (outputEl) {{\n",
       "    x.observe(outputEl, {childList: true});\n",
       "}}\n",
       "\n",
       "                        })                };                });            </script>        </div>"
      ]
     },
     "metadata": {},
     "output_type": "display_data"
    }
   ],
   "source": [
    "plot_model(model1, plot='3d')"
   ]
  },
  {
   "cell_type": "code",
   "execution_count": null,
   "id": "c5012a8f",
   "metadata": {},
   "outputs": [],
   "source": []
  }
 ],
 "metadata": {
  "kernelspec": {
   "display_name": "Python 3.9.12 (tensorflow)",
   "language": "python",
   "name": "tensorflow"
  },
  "language_info": {
   "codemirror_mode": {
    "name": "ipython",
    "version": 3
   },
   "file_extension": ".py",
   "mimetype": "text/x-python",
   "name": "python",
   "nbconvert_exporter": "python",
   "pygments_lexer": "ipython3",
   "version": "3.9.12"
  }
 },
 "nbformat": 4,
 "nbformat_minor": 5
}
